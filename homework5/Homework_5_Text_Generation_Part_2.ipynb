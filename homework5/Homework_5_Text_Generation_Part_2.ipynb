{
 "cells": [
  {
   "cell_type": "markdown",
   "metadata": {
    "id": "EKOTlwcmxmej"
   },
   "source": [
    "# GPT-2 Fine-Tuning Tutorial using raw text corpus\n",
    "\n",
    "From Rey Farhan (https://reyfarhan.com/posts/easy-gpt2-finetuning-huggingface/)\n",
    "\n",
    "\n"
   ]
  },
  {
   "cell_type": "markdown",
   "metadata": {
    "id": "NKGBoVwuhM4H"
   },
   "source": [
    "This is a simplified script for fine-tuning GPT2 using Hugging Face's [Transformers library](https://huggingface.co/transformers/) and PyTorch on raw data. "
   ]
  },
  {
   "cell_type": "markdown",
   "metadata": {
    "id": "lS58Tugpg5gf"
   },
   "source": [
    "---------\n",
    "Your task is to modify this assignment on raw text of your choice (I have put Pride and Prejudice as an example below) and include 10 sample generations from your chosen text that you find interesting. \n"
   ]
  },
  {
   "cell_type": "markdown",
   "metadata": {
    "id": "Xf3Qw77SZGbS"
   },
   "source": [
    "# Setup"
   ]
  },
  {
   "cell_type": "code",
   "execution_count": 1,
   "metadata": {
    "colab": {
     "base_uri": "https://localhost:8080/"
    },
    "id": "0NmMdkZO8R6q",
    "outputId": "22d12d5d-e678-482e-aa6f-85b8b437446f"
   },
   "outputs": [
    {
     "name": "stdout",
     "output_type": "stream",
     "text": [
      "Collecting transformers\n",
      "\u001b[?25l  Downloading https://files.pythonhosted.org/packages/81/91/61d69d58a1af1bd81d9ca9d62c90a6de3ab80d77f27c5df65d9a2c1f5626/transformers-4.5.0-py3-none-any.whl (2.1MB)\n",
      "\u001b[K     |████████████████████████████████| 2.2MB 8.5MB/s \n",
      "\u001b[?25hRequirement already satisfied: packaging in /usr/local/lib/python3.7/dist-packages (from transformers) (20.9)\n",
      "Collecting tokenizers<0.11,>=0.10.1\n",
      "\u001b[?25l  Downloading https://files.pythonhosted.org/packages/ae/04/5b870f26a858552025a62f1649c20d29d2672c02ff3c3fb4c688ca46467a/tokenizers-0.10.2-cp37-cp37m-manylinux2010_x86_64.whl (3.3MB)\n",
      "\u001b[K     |████████████████████████████████| 3.3MB 48.0MB/s \n",
      "\u001b[?25hRequirement already satisfied: importlib-metadata; python_version < \"3.8\" in /usr/local/lib/python3.7/dist-packages (from transformers) (3.8.1)\n",
      "Requirement already satisfied: requests in /usr/local/lib/python3.7/dist-packages (from transformers) (2.23.0)\n",
      "Requirement already satisfied: tqdm>=4.27 in /usr/local/lib/python3.7/dist-packages (from transformers) (4.41.1)\n",
      "Requirement already satisfied: regex!=2019.12.17 in /usr/local/lib/python3.7/dist-packages (from transformers) (2019.12.20)\n",
      "Requirement already satisfied: numpy>=1.17 in /usr/local/lib/python3.7/dist-packages (from transformers) (1.19.5)\n",
      "Collecting sacremoses\n",
      "\u001b[?25l  Downloading https://files.pythonhosted.org/packages/08/cd/342e584ee544d044fb573ae697404ce22ede086c9e87ce5960772084cad0/sacremoses-0.0.44.tar.gz (862kB)\n",
      "\u001b[K     |████████████████████████████████| 870kB 53.5MB/s \n",
      "\u001b[?25hRequirement already satisfied: filelock in /usr/local/lib/python3.7/dist-packages (from transformers) (3.0.12)\n",
      "Requirement already satisfied: pyparsing>=2.0.2 in /usr/local/lib/python3.7/dist-packages (from packaging->transformers) (2.4.7)\n",
      "Requirement already satisfied: zipp>=0.5 in /usr/local/lib/python3.7/dist-packages (from importlib-metadata; python_version < \"3.8\"->transformers) (3.4.1)\n",
      "Requirement already satisfied: typing-extensions>=3.6.4; python_version < \"3.8\" in /usr/local/lib/python3.7/dist-packages (from importlib-metadata; python_version < \"3.8\"->transformers) (3.7.4.3)\n",
      "Requirement already satisfied: idna<3,>=2.5 in /usr/local/lib/python3.7/dist-packages (from requests->transformers) (2.10)\n",
      "Requirement already satisfied: certifi>=2017.4.17 in /usr/local/lib/python3.7/dist-packages (from requests->transformers) (2020.12.5)\n",
      "Requirement already satisfied: chardet<4,>=3.0.2 in /usr/local/lib/python3.7/dist-packages (from requests->transformers) (3.0.4)\n",
      "Requirement already satisfied: urllib3!=1.25.0,!=1.25.1,<1.26,>=1.21.1 in /usr/local/lib/python3.7/dist-packages (from requests->transformers) (1.24.3)\n",
      "Requirement already satisfied: six in /usr/local/lib/python3.7/dist-packages (from sacremoses->transformers) (1.15.0)\n",
      "Requirement already satisfied: click in /usr/local/lib/python3.7/dist-packages (from sacremoses->transformers) (7.1.2)\n",
      "Requirement already satisfied: joblib in /usr/local/lib/python3.7/dist-packages (from sacremoses->transformers) (1.0.1)\n",
      "Building wheels for collected packages: sacremoses\n",
      "  Building wheel for sacremoses (setup.py) ... \u001b[?25l\u001b[?25hdone\n",
      "  Created wheel for sacremoses: filename=sacremoses-0.0.44-cp37-none-any.whl size=886084 sha256=f1b9f393ea0acf7299150b24bf64e6123d46e94ff09a04dc8262dfe08980cd03\n",
      "  Stored in directory: /root/.cache/pip/wheels/3e/fb/c0/13ab4d63d537658f448366744654323077c4d90069b6512f3c\n",
      "Successfully built sacremoses\n",
      "Installing collected packages: tokenizers, sacremoses, transformers\n",
      "Successfully installed sacremoses-0.0.44 tokenizers-0.10.2 transformers-4.5.0\n"
     ]
    }
   ],
   "source": [
    "!pip install transformers"
   ]
  },
  {
   "cell_type": "code",
   "execution_count": 2,
   "metadata": {
    "colab": {
     "base_uri": "https://localhost:8080/"
    },
    "id": "JCCeyhuDHdOu",
    "outputId": "383aab8d-a474-4ca3-d9ac-140ad0931919"
   },
   "outputs": [
    {
     "name": "stdout",
     "output_type": "stream",
     "text": [
      "[nltk_data] Downloading package punkt to /root/nltk_data...\n",
      "[nltk_data]   Unzipping tokenizers/punkt.zip.\n"
     ]
    },
    {
     "data": {
      "text/plain": [
       "True"
      ]
     },
     "execution_count": 2,
     "metadata": {
      "tags": []
     },
     "output_type": "execute_result"
    }
   ],
   "source": [
    "import os\n",
    "import time\n",
    "import datetime\n",
    "from google.colab import drive\n",
    "\n",
    "import pandas as pd\n",
    "import seaborn as sns\n",
    "import numpy as np\n",
    "import random\n",
    "\n",
    "import matplotlib.pyplot as plt\n",
    "% matplotlib inline\n",
    "\n",
    "import torch\n",
    "from torch.utils.data import Dataset, DataLoader, random_split, RandomSampler, SequentialSampler\n",
    "torch.manual_seed(42)\n",
    "\n",
    "from transformers import GPT2LMHeadModel,  GPT2Tokenizer, GPT2Config, GPT2LMHeadModel\n",
    "from transformers import AdamW, get_linear_schedule_with_warmup\n",
    "\n",
    "import nltk\n",
    "nltk.download('punkt')"
   ]
  },
  {
   "cell_type": "code",
   "execution_count": 3,
   "metadata": {
    "id": "0bcUqXWDfNwb"
   },
   "outputs": [],
   "source": [
    "import logging\n",
    "import transformers\n",
    "logging.getLogger(\"transformers\").setLevel(logging.ERROR)  # No warning on sample size"
   ]
  },
  {
   "cell_type": "code",
   "execution_count": 4,
   "metadata": {
    "colab": {
     "base_uri": "https://localhost:8080/"
    },
    "id": "05IF6kBLGTjZ",
    "outputId": "23885d07-2eb4-4c67-e063-7911ea4d5879"
   },
   "outputs": [
    {
     "name": "stdout",
     "output_type": "stream",
     "text": [
      "Sun Apr 11 01:52:22 2021       \n",
      "+-----------------------------------------------------------------------------+\n",
      "| NVIDIA-SMI 460.67       Driver Version: 460.32.03    CUDA Version: 11.2     |\n",
      "|-------------------------------+----------------------+----------------------+\n",
      "| GPU  Name        Persistence-M| Bus-Id        Disp.A | Volatile Uncorr. ECC |\n",
      "| Fan  Temp  Perf  Pwr:Usage/Cap|         Memory-Usage | GPU-Util  Compute M. |\n",
      "|                               |                      |               MIG M. |\n",
      "|===============================+======================+======================|\n",
      "|   0  Tesla P100-PCIE...  Off  | 00000000:00:04.0 Off |                    0 |\n",
      "| N/A   35C    P0    26W / 250W |      0MiB / 16280MiB |      0%      Default |\n",
      "|                               |                      |                  N/A |\n",
      "+-------------------------------+----------------------+----------------------+\n",
      "                                                                               \n",
      "+-----------------------------------------------------------------------------+\n",
      "| Processes:                                                                  |\n",
      "|  GPU   GI   CI        PID   Type   Process name                  GPU Memory |\n",
      "|        ID   ID                                                   Usage      |\n",
      "|=============================================================================|\n",
      "|  No running processes found                                                 |\n",
      "+-----------------------------------------------------------------------------+\n"
     ]
    }
   ],
   "source": [
    "!nvidia-smi"
   ]
  },
  {
   "cell_type": "markdown",
   "metadata": {
    "id": "ZfdCML6Parvv"
   },
   "source": [
    "# Create Training Set\n",
    "\n",
    "The data used to finetune the language model is a set of around 1000 DJ biographies, with the aim of generating them in the same general format and style.\n",
    "\n",
    "This data isn't public so if you want to use this script, you'll have to source your own training set."
   ]
  },
  {
   "cell_type": "code",
   "execution_count": 5,
   "metadata": {
    "colab": {
     "base_uri": "https://localhost:8080/"
    },
    "id": "_EYFrNxr-TYb",
    "outputId": "314852a8-c66c-48c1-cd2b-53456b117b78"
   },
   "outputs": [
    {
     "name": "stdout",
     "output_type": "stream",
     "text": [
      "Mounted at /content/gdrive/\n"
     ]
    }
   ],
   "source": [
    "# mount my Google Drive directory and access the training data located there\n",
    "gdrive_dir = '/content/gdrive/'\n",
    "drive.mount(gdrive_dir, force_remount=True)"
   ]
  },
  {
   "cell_type": "code",
   "execution_count": 6,
   "metadata": {
    "id": "ZnCBiCwjcGw-"
   },
   "outputs": [],
   "source": [
    "data_dir = \"/content/gdrive/MyDrive/Colab_Notebooks/data\"\n",
    "filename = 'prideAndPrejudice.txt'"
   ]
  },
  {
   "cell_type": "code",
   "execution_count": 7,
   "metadata": {
    "id": "G_DWAMe1FopX"
   },
   "outputs": [],
   "source": [
    "# copy the data to the current Colab working directory\n",
    "!cp $data_dir/$filename ."
   ]
  },
  {
   "cell_type": "code",
   "execution_count": 8,
   "metadata": {
    "colab": {
     "base_uri": "https://localhost:8080/"
    },
    "id": "_U3m6wr3Ahzt",
    "outputId": "f264e7fd-2337-4097-d3ac-caae19890fa3"
   },
   "outputs": [
    {
     "name": "stdout",
     "output_type": "stream",
     "text": [
      "2063\n"
     ]
    }
   ],
   "source": [
    "f=open(filename)\n",
    "bios=f.readlines()\n",
    "bios=[b.strip() for b in bios]\n",
    "print(len(bios))"
   ]
  },
  {
   "cell_type": "markdown",
   "metadata": {
    "id": "hQ1oK0kXaV5p"
   },
   "source": [
    "We need to get an idea of how long our training documents are.\n",
    "\n",
    "I'm not going to use the same tokenizer as the GPT2 one, which is a [byte pair encoding tokenizer](https://blog.floydhub.com/tokenization-nlp/). Instead, I'm using a simple one just to get a rough understanding."
   ]
  },
  {
   "cell_type": "code",
   "execution_count": 9,
   "metadata": {
    "colab": {
     "base_uri": "https://localhost:8080/",
     "height": 282
    },
    "id": "cKsH2sU0OCQA",
    "outputId": "874e4e69-28d7-470b-93a2-d87a4613e57c"
   },
   "outputs": [
    {
     "data": {
      "text/plain": [
       "<matplotlib.axes._subplots.AxesSubplot at 0x7f5005b3f510>"
      ]
     },
     "execution_count": 9,
     "metadata": {
      "tags": []
     },
     "output_type": "execute_result"
    },
    {
     "data": {
      "image/png": "[encoded data removed]",
      "text/plain": [
       "<Figure size 432x288 with 1 Axes>"
      ]
     },
     "metadata": {
      "needs_background": "light",
      "tags": []
     },
     "output_type": "display_data"
    }
   ],
   "source": [
    "doc_lengths = []\n",
    "for bio in bios:\n",
    "    # get rough token count distribution\n",
    "    tokens = nltk.word_tokenize(bio)\n",
    "    doc_lengths.append(len(tokens))\n",
    "doc_lengths = np.array(doc_lengths)\n",
    "sns.distplot(doc_lengths)"
   ]
  },
  {
   "cell_type": "code",
   "execution_count": 10,
   "metadata": {
    "colab": {
     "base_uri": "https://localhost:8080/"
    },
    "id": "u6P6bTItJEIj",
    "outputId": "5eba2ba2-4854-42f2-c4a4-7a1445ff09dd"
   },
   "outputs": [
    {
     "data": {
      "text/plain": [
       "0.0004847309743092584"
      ]
     },
     "execution_count": 10,
     "metadata": {
      "tags": []
     },
     "output_type": "execute_result"
    }
   ],
   "source": [
    "# the max token length   \n",
    "len(doc_lengths[doc_lengths > 768])/len(doc_lengths)"
   ]
  },
  {
   "cell_type": "code",
   "execution_count": 11,
   "metadata": {
    "colab": {
     "base_uri": "https://localhost:8080/"
    },
    "id": "63t_69HjlwAj",
    "outputId": "bcaae209-a5de-47a1-9735-af4bdf08aa8f"
   },
   "outputs": [
    {
     "data": {
      "text/plain": [
       "69.48715462918081"
      ]
     },
     "execution_count": 11,
     "metadata": {
      "tags": []
     },
     "output_type": "execute_result"
    }
   ],
   "source": [
    "np.average(doc_lengths)"
   ]
  },
  {
   "cell_type": "markdown",
   "metadata": {
    "id": "Tuq5bqdr4_a6"
   },
   "source": [
    "Even though these token counts won't match up to the BPE tokenizer's, I'm confident that most bios will be fit under the 768 embedding size limit for the small GPT2 model."
   ]
  },
  {
   "cell_type": "markdown",
   "metadata": {
    "id": "cMml12FJGjPW"
   },
   "source": [
    "# GPT2 Tokenizer"
   ]
  },
  {
   "cell_type": "markdown",
   "metadata": {
    "id": "ANJhbBwdxN-b"
   },
   "source": [
    "Although the defaults take care of this,I thought I'd show that you can specify some of the special tokens. "
   ]
  },
  {
   "cell_type": "code",
   "execution_count": 12,
   "metadata": {
    "colab": {
     "base_uri": "https://localhost:8080/",
     "height": 181,
     "referenced_widgets": [
      "1a5513ca665246f189a551020456c5b6",
      "b7d2d0fd6e93428dbb78146eaa05d3d0",
      "816f88e35c134ff1994c5f6fed14c5b4",
      "f4682539b7024e5292d494295fc27f6a",
      "9a2faca37c6a46498536b05dad8bba50",
      "4db8dcb2d597418795720506ce1cbeed",
      "d8148c33a6074af2a99ad49c4605e404",
      "e2337659d60d4c0a9ee9f581e8262dd5",
      "8f35bcdabd624133851d6bf3b72c240c",
      "28c036de412e48b5b3080f50fe5e7742",
      "7a7937f21ceb49dfad9aaeb9a6f5dedf",
      "2a7662eecf8e4a54a8ac2e12caf9c718",
      "b1f13cdc04804cac803c9366306dd366",
      "87a48db84c7949e1a2374b9bfa1b9815",
      "7db34bd03d2f4fdfb832e4642c20a033",
      "e32a0046dead4ba181299bd74b635235",
      "acd4c5deb96d4a10827c57cff66928a3",
      "7b02b1707f054600b9d3ec54e9e27ce9",
      "bdde7abdb4f245dd8962b8701d72e573",
      "93560590bffb4644a51e5e83695c40db",
      "b13fdb7a959f48059fa4b91fbf9a327c",
      "86e0c4ed74dd44c8a705ea79f598db57",
      "3e0bb351b546426fa510095338d86058",
      "66a84da8155b4f95be231bae9b83c2c9"
     ]
    },
    "id": "Z474sSC6oe7A",
    "outputId": "ae98c11a-48c9-4452-9d5c-6b5ab7690ca7"
   },
   "outputs": [
    {
     "data": {
      "application/vnd.jupyter.widget-view+json": {
       "model_id": "1a5513ca665246f189a551020456c5b6",
       "version_major": 2,
       "version_minor": 0
      },
      "text/plain": [
       "HBox(children=(FloatProgress(value=0.0, description='Downloading', max=1042301.0, style=ProgressStyle(descript…"
      ]
     },
     "metadata": {
      "tags": []
     },
     "output_type": "display_data"
    },
    {
     "name": "stdout",
     "output_type": "stream",
     "text": [
      "\n"
     ]
    },
    {
     "data": {
      "application/vnd.jupyter.widget-view+json": {
       "model_id": "8f35bcdabd624133851d6bf3b72c240c",
       "version_major": 2,
       "version_minor": 0
      },
      "text/plain": [
       "HBox(children=(FloatProgress(value=0.0, description='Downloading', max=456318.0, style=ProgressStyle(descripti…"
      ]
     },
     "metadata": {
      "tags": []
     },
     "output_type": "display_data"
    },
    {
     "name": "stdout",
     "output_type": "stream",
     "text": [
      "\n"
     ]
    },
    {
     "data": {
      "application/vnd.jupyter.widget-view+json": {
       "model_id": "acd4c5deb96d4a10827c57cff66928a3",
       "version_major": 2,
       "version_minor": 0
      },
      "text/plain": [
       "HBox(children=(FloatProgress(value=0.0, description='Downloading', max=1355256.0, style=ProgressStyle(descript…"
      ]
     },
     "metadata": {
      "tags": []
     },
     "output_type": "display_data"
    },
    {
     "name": "stderr",
     "output_type": "stream",
     "text": [
      "Special tokens have been added in the vocabulary, make sure the associated word embedding are fine-tuned or trained.\n"
     ]
    },
    {
     "name": "stdout",
     "output_type": "stream",
     "text": [
      "\n"
     ]
    }
   ],
   "source": [
    "# Load the GPT tokenizer.\n",
    "tokenizer = GPT2Tokenizer.from_pretrained('gpt2', bos_token='<|startoftext|>', eos_token='<|endoftext|>', pad_token='<|pad|>') #gpt2-medium\n"
   ]
  },
  {
   "cell_type": "code",
   "execution_count": 13,
   "metadata": {
    "colab": {
     "base_uri": "https://localhost:8080/"
    },
    "id": "sh0XKuDvnryn",
    "outputId": "45721c6c-e0ec-46ac-8779-8b14335b9bcc"
   },
   "outputs": [
    {
     "name": "stdout",
     "output_type": "stream",
     "text": [
      "The max model length is 1024 for this model, although the actual embedding size for GPT small is 768\n",
      "The beginning of sequence token <|startoftext|> token has the id 50257\n",
      "The end of sequence token <|endoftext|> has the id 50256\n",
      "The padding token <|pad|> has the id 50258\n"
     ]
    }
   ],
   "source": [
    "print(\"The max model length is {} for this model, although the actual embedding size for GPT small is 768\".format(tokenizer.model_max_length))\n",
    "print(\"The beginning of sequence token {} token has the id {}\".format(tokenizer.convert_ids_to_tokens(tokenizer.bos_token_id), tokenizer.bos_token_id))\n",
    "print(\"The end of sequence token {} has the id {}\".format(tokenizer.convert_ids_to_tokens(tokenizer.eos_token_id), tokenizer.eos_token_id))\n",
    "print(\"The padding token {} has the id {}\".format(tokenizer.convert_ids_to_tokens(tokenizer.pad_token_id), tokenizer.pad_token_id))"
   ]
  },
  {
   "cell_type": "markdown",
   "metadata": {
    "id": "ex5O1eV-Pfct"
   },
   "source": [
    "# PyTorch Datasets & Dataloaders\n"
   ]
  },
  {
   "cell_type": "markdown",
   "metadata": {
    "id": "3lgZoOYkxZfx"
   },
   "source": [
    "GPT2 is a large model. Increasing the batch size above 2 has lead to out of memory problems. This can be mitigated by accumulating the gradients but that is out of scope here."
   ]
  },
  {
   "cell_type": "code",
   "execution_count": 14,
   "metadata": {
    "id": "scqrzmqhV__z"
   },
   "outputs": [],
   "source": [
    "batch_size = 2"
   ]
  },
  {
   "cell_type": "markdown",
   "metadata": {
    "id": "lqGMee7Isfpx"
   },
   "source": [
    "I'm using the standard PyTorch approach of loading data in using a [dataset class](https://pytorch.org/tutorials/beginner/data_loading_tutorial.html).\n",
    "\n",
    "I'm passing in the tokenizer as an argument but normally I would  instantiate it within the class."
   ]
  },
  {
   "cell_type": "code",
   "execution_count": 15,
   "metadata": {
    "id": "U_XJVIetKN-h"
   },
   "outputs": [],
   "source": [
    "class GPT2Dataset(Dataset):\n",
    "\n",
    "    def __init__(self, txt_list, tokenizer, gpt2_type=\"gpt2\", max_length=768):\n",
    "\n",
    "        self.tokenizer = tokenizer\n",
    "        self.input_ids = []\n",
    "        self.attn_masks = []\n",
    "\n",
    "        for txt in txt_list:\n",
    "\n",
    "            encodings_dict = tokenizer('<|startoftext|>'+ txt + '<|endoftext|>', truncation=True, max_length=max_length, padding=\"max_length\")\n",
    "\n",
    "            self.input_ids.append(torch.tensor(encodings_dict['input_ids']))\n",
    "            self.attn_masks.append(torch.tensor(encodings_dict['attention_mask']))\n",
    "\n",
    "    def __len__(self):\n",
    "        return len(self.input_ids)\n",
    "\n",
    "    def __getitem__(self, idx):\n",
    "        return self.input_ids[idx], self.attn_masks[idx] "
   ]
  },
  {
   "cell_type": "markdown",
   "metadata": {
    "id": "89Z7aYUgpWrd"
   },
   "source": [
    "To understand how I've used the tokenizer, it's worth reading [the docs](https://huggingface.co/transformers/main_classes/tokenizer.html). I've wrapped each bio in the bos and eos tokens.\n",
    "\n",
    "Every tensor passed to the model should be the same length.\n",
    "\n",
    "If the bio is shorter than 768 tokens, it will be padded to a length of 768 using the padding token. In addition, an attention mask will be returned that needs to be passed to the model to tell it to ignore the padding tokens. \n",
    "\n",
    "If the bio is longer than 768 tokens, it will be truncated without the eos_token. This isn't a problem."
   ]
  },
  {
   "cell_type": "code",
   "execution_count": 16,
   "metadata": {
    "colab": {
     "base_uri": "https://localhost:8080/"
    },
    "id": "Xza_O1_rD7yh",
    "outputId": "d2c40aef-fe2c-4bf0-e666-d6c45f82e18d"
   },
   "outputs": [
    {
     "name": "stdout",
     "output_type": "stream",
     "text": [
      "1,856 training samples\n",
      "  207 validation samples\n"
     ]
    }
   ],
   "source": [
    "dataset = GPT2Dataset(bios, tokenizer, max_length=768)\n",
    "\n",
    "# Split into training and validation sets\n",
    "train_size = int(0.9 * len(dataset))\n",
    "val_size = len(dataset) - train_size\n",
    "\n",
    "train_dataset, val_dataset = random_split(dataset, [train_size, val_size])\n",
    "\n",
    "print('{:>5,} training samples'.format(train_size))\n",
    "print('{:>5,} validation samples'.format(val_size))"
   ]
  },
  {
   "cell_type": "code",
   "execution_count": 17,
   "metadata": {
    "id": "x0WeP5PREUuy"
   },
   "outputs": [],
   "source": [
    "# Create the DataLoaders for our training and validation datasets.\n",
    "# We'll take training samples in random order. \n",
    "train_dataloader = DataLoader(\n",
    "            train_dataset,  # The training samples.\n",
    "            sampler = RandomSampler(train_dataset), # Select batches randomly\n",
    "            batch_size = batch_size # Trains with this batch size.\n",
    "        )\n",
    "\n",
    "# For validation the order doesn't matter, so we'll just read them sequentially.\n",
    "validation_dataloader = DataLoader(\n",
    "            val_dataset, # The validation samples.\n",
    "            sampler = SequentialSampler(val_dataset), # Pull out batches sequentially.\n",
    "            batch_size = batch_size # Evaluate with this batch size.\n",
    "        )"
   ]
  },
  {
   "cell_type": "markdown",
   "metadata": {
    "id": "D6TKgyUzPIQc"
   },
   "source": [
    "# Finetune GPT2 Language Model"
   ]
  },
  {
   "cell_type": "code",
   "execution_count": 18,
   "metadata": {
    "colab": {
     "base_uri": "https://localhost:8080/",
     "height": 115,
     "referenced_widgets": [
      "802f16295e91496daba66fc3222384ab",
      "8aea2c1d5db944779d2f24e775ea0e09",
      "7a397b86982d4c939d3c96fae8bea512",
      "1954d93d68f146b4aa4188fbb9ddc056",
      "b431601fd45444bc8f67a89914425470",
      "55e6ac3baafb44a98b888fabce922e22",
      "75678c9c31034b7d8e40be620d7208b3",
      "852bdc854ac0432eb3ad935286f604d5",
      "fb72a98e26ce4a97aba25c559ca5b6bf",
      "dd4a9bb0286941f188267ad2e1aaf655",
      "0f4b17b737b141ba8890b63de537f8d7",
      "e4ee6805e9a4445ba6d088bd88e1185b",
      "5fcbc55fbead4226b90c2b044a7d5b4d",
      "b5133619ed5d47f3b9c1665313383d08",
      "31d85e82599f48ea943b503b810444e1",
      "4788084e0b6e44bb84acbe7da93aebfc"
     ]
    },
    "id": "gFsCTp_mporB",
    "outputId": "38de0799-678e-46fe-cc4c-8307dfe0f24f"
   },
   "outputs": [
    {
     "data": {
      "application/vnd.jupyter.widget-view+json": {
       "model_id": "802f16295e91496daba66fc3222384ab",
       "version_major": 2,
       "version_minor": 0
      },
      "text/plain": [
       "HBox(children=(FloatProgress(value=0.0, description='Downloading', max=665.0, style=ProgressStyle(description_…"
      ]
     },
     "metadata": {
      "tags": []
     },
     "output_type": "display_data"
    },
    {
     "name": "stdout",
     "output_type": "stream",
     "text": [
      "\n"
     ]
    },
    {
     "data": {
      "application/vnd.jupyter.widget-view+json": {
       "model_id": "fb72a98e26ce4a97aba25c559ca5b6bf",
       "version_major": 2,
       "version_minor": 0
      },
      "text/plain": [
       "HBox(children=(FloatProgress(value=0.0, description='Downloading', max=548118077.0, style=ProgressStyle(descri…"
      ]
     },
     "metadata": {
      "tags": []
     },
     "output_type": "display_data"
    },
    {
     "name": "stdout",
     "output_type": "stream",
     "text": [
      "\n"
     ]
    }
   ],
   "source": [
    "# I'm not really doing anything with the config buheret\n",
    "configuration = GPT2Config.from_pretrained('gpt2', output_hidden_states=False)\n",
    "\n",
    "# instantiate the model\n",
    "model = GPT2LMHeadModel.from_pretrained(\"gpt2\", config=configuration)\n",
    "\n",
    "# this step is necessary because I've added some tokens (bos_token, etc) to the embeddings\n",
    "# otherwise the tokenizer and model tensors won't match up\n",
    "model.resize_token_embeddings(len(tokenizer))\n",
    "\n",
    "# Tell pytorch to run this model on the GPU.\n",
    "device = torch.device(\"cuda\")\n",
    "model.cuda()\n",
    "\n",
    "# Set the seed value all over the place to make this reproducible.\n",
    "seed_val = 42\n",
    "\n",
    "random.seed(seed_val)\n",
    "np.random.seed(seed_val)\n",
    "torch.manual_seed(seed_val)\n",
    "torch.cuda.manual_seed_all(seed_val)"
   ]
  },
  {
   "cell_type": "code",
   "execution_count": 22,
   "metadata": {
    "id": "pBEVY2PYSTXJ"
   },
   "outputs": [],
   "source": [
    "# some parameters I cooked up that work reasonably well\n",
    "\n",
    "epochs = 4\n",
    "learning_rate = 5e-4\n",
    "warmup_steps = 1e2\n",
    "epsilon = 1e-8\n",
    "\n",
    "# this produces sample output every 100 steps\n",
    "sample_every = 100"
   ]
  },
  {
   "cell_type": "code",
   "execution_count": 23,
   "metadata": {
    "id": "GLs72DuMODJO"
   },
   "outputs": [],
   "source": [
    "# Note: AdamW is a class from the huggingface library (as opposed to pytorch) \n",
    "optimizer = AdamW(model.parameters(),\n",
    "                  lr = learning_rate,\n",
    "                  eps = epsilon\n",
    "                )"
   ]
  },
  {
   "cell_type": "code",
   "execution_count": 24,
   "metadata": {
    "id": "-p0upAhhRiIx"
   },
   "outputs": [],
   "source": [
    "# Total number of training steps is [number of batches] x [number of epochs]. \n",
    "# (Note that this is not the same as the number of training samples).\n",
    "total_steps = len(train_dataloader) * epochs\n",
    "\n",
    "# Create the learning rate scheduler.\n",
    "# This changes the learning rate as the training loop progresses\n",
    "scheduler = get_linear_schedule_with_warmup(optimizer, \n",
    "                                            num_warmup_steps = warmup_steps, \n",
    "                                            num_training_steps = total_steps)"
   ]
  },
  {
   "cell_type": "code",
   "execution_count": 25,
   "metadata": {
    "id": "gpt6tR83keZD"
   },
   "outputs": [],
   "source": [
    "def format_time(elapsed):\n",
    "    return str(datetime.timedelta(seconds=int(round((elapsed)))))"
   ]
  },
  {
   "cell_type": "code",
   "execution_count": 26,
   "metadata": {
    "id": "vCPohrZ-CTWu"
   },
   "outputs": [],
   "source": [
    "def train(model):\n",
    "    total_t0 = time.time()\n",
    "    training_stats = []\n",
    "    model = model.to(device)\n",
    "\n",
    "    for epoch_i in range(0, epochs):\n",
    "        print(\"\")\n",
    "        print('======== Epoch {:} / {:} ========'.format(epoch_i + 1, epochs))\n",
    "        print('Training...')\n",
    "\n",
    "        t0 = time.time()\n",
    "        total_train_loss = 0\n",
    "        model.train()\n",
    "\n",
    "        for step, batch in enumerate(train_dataloader):\n",
    "\n",
    "            b_input_ids = batch[0].to(device)\n",
    "            b_labels = batch[0].to(device)\n",
    "            b_masks = batch[1].to(device)\n",
    "\n",
    "            model.zero_grad()        \n",
    "\n",
    "            outputs = model(b_input_ids,\n",
    "                            labels=b_labels, \n",
    "                            attention_mask = b_masks,\n",
    "                            token_type_ids=None\n",
    "                            )\n",
    "\n",
    "            loss = outputs[0]  \n",
    "\n",
    "            batch_loss = loss.item()\n",
    "            total_train_loss += batch_loss\n",
    "\n",
    "            # Get sample every x batches.\n",
    "            if step % sample_every == 0 and not step == 0:\n",
    "\n",
    "                elapsed = format_time(time.time() - t0)\n",
    "                print('Step {}/{}, Loss: {}, Elapsed: {}'.format(step, len(train_dataloader), batch_loss, elapsed))\n",
    "                model.eval()\n",
    "                sample_outputs = model.generate(\n",
    "                                        bos_token_id=random.randint(1,30000),\n",
    "                                        do_sample=True,   \n",
    "                                        top_k=50, \n",
    "                                        max_length = 200,\n",
    "                                        top_p=0.95, \n",
    "                                        num_return_sequences=1\n",
    "                                    )\n",
    "                for i, sample_output in enumerate(sample_outputs):\n",
    "                    print(\"{}: {}\\n\".format(i, tokenizer.decode(sample_output, skip_special_tokens=True)))\n",
    "                \n",
    "                model.train()\n",
    "            loss.backward()\n",
    "            optimizer.step()\n",
    "            scheduler.step()\n",
    "\n",
    "        # Calculate the average loss over all of the batches.\n",
    "        avg_train_loss = total_train_loss / len(train_dataloader)       \n",
    "        \n",
    "        # Measure how long this epoch took.\n",
    "        training_time = format_time(time.time() - t0)\n",
    "\n",
    "        print(\"\")\n",
    "        print(\"Average training loss: {0:.2f}\".format(avg_train_loss))\n",
    "        print(\"Training epoch took: {:}\".format(training_time))\n",
    "            \n",
    "        # ========================================\n",
    "        #               Validation\n",
    "        # ========================================\n",
    "\n",
    "        print(\"\")\n",
    "        print(\"Running Validation...\")\n",
    "\n",
    "        t0 = time.time()\n",
    "\n",
    "        model.eval()\n",
    "\n",
    "        total_eval_loss = 0\n",
    "        nb_eval_steps = 0\n",
    "\n",
    "        # Evaluate data for one epoch\n",
    "        for batch in validation_dataloader:\n",
    "            \n",
    "            b_input_ids = batch[0].to(device)\n",
    "            b_labels = batch[0].to(device)\n",
    "            b_masks = batch[1].to(device)\n",
    "            \n",
    "            with torch.no_grad():        \n",
    "\n",
    "                outputs  = model(b_input_ids, \n",
    "    #                            token_type_ids=None, \n",
    "                                attention_mask = b_masks,\n",
    "                                labels=b_labels)\n",
    "            \n",
    "                loss = outputs[0]  \n",
    "                \n",
    "            batch_loss = loss.item()\n",
    "            total_eval_loss += batch_loss        \n",
    "\n",
    "        avg_val_loss = total_eval_loss / len(validation_dataloader)\n",
    "        \n",
    "        validation_time = format_time(time.time() - t0)    \n",
    "\n",
    "        print(\"Validation Loss: {0:.2f}\".format(avg_val_loss))\n",
    "        print(\"Validation took: {:}\".format(validation_time))\n",
    "\n",
    "        # Record all statistics from this epoch.\n",
    "        training_stats.append(\n",
    "            {\n",
    "                'epoch': epoch_i + 1,\n",
    "                'Training Loss': avg_train_loss,\n",
    "                'Valid. Loss': avg_val_loss,\n",
    "                'Training Time': training_time,\n",
    "                'Validation Time': validation_time\n",
    "            }\n",
    "        )\n",
    "\n",
    "    print(\"\")\n",
    "    print(\"Training complete!\")\n",
    "    print(\"Total training took {:} (h:mm:ss)\".format(format_time(time.time()-total_t0)))\n",
    "    return training_stats"
   ]
  },
  {
   "cell_type": "code",
   "execution_count": 27,
   "metadata": {
    "colab": {
     "base_uri": "https://localhost:8080/"
    },
    "id": "TCqTiuIxQRv1",
    "outputId": "4ed063cf-0082-4cd7-c242-00a6a61dea1d"
   },
   "outputs": [
    {
     "name": "stdout",
     "output_type": "stream",
     "text": [
      "\n",
      "======== Epoch 1 / 4 ========\n",
      "Training...\n",
      "Step 100/928, Loss: 0.3815542459487915, Elapsed: 0:00:29\n",
      "0:  bipartisan\"I believe in the power of perseverance, for she may find comfort in this way,\" said Mr. Dine, in conversation withMr. Witherings and Mrs. Sheppys of her aunt; which surprised her; which she had so much admiration for him as she could make them agree; which she had, of course, wished to give them encouragement on this point.\n",
      "\n",
      "Step 200/928, Loss: 0.16303406655788422, Elapsed: 0:00:59\n",
      "0:  increasing\"We shall be able to do so, and shall know with a great deal of credit what you have done.\"\n",
      "\n",
      "Step 300/928, Loss: 0.3195599615573883, Elapsed: 0:01:28\n",
      "0: day: When she saw how many hours had been spent in such an effort to satisfy herself, she could not help taking notice of it; and as they were together in her room, she continued to admire Mr. Wickham as well as to admire him. At the sight of his charming face, she answered with a smile:\n",
      "\n",
      "Step 400/928, Loss: 0.1358759105205536, Elapsed: 0:01:57\n",
      "0:  Hang\"No. I did not know you would not make it such a day. Your cousin has not married her very much. It is a great shame, my dear, for her sister has been in a state of affairs which I have already prevented.\"\n",
      "\n",
      "Step 500/928, Loss: 0.2094556838274002, Elapsed: 0:02:27\n",
      "0:  foods or of their children. Mr. Bennet would therefore only have to be heard to have something to say as well.\n",
      " The answer to your objections, etc., was written yesterday; you will know it from your reply.\n",
      "\n",
      "Step 600/928, Loss: 0.07905341684818268, Elapsed: 0:02:56\n",
      "0:  trail\"You can see, Mr. Bingley! Come back! I promise I will go in a hurry. I am sure of finding my daughter there as soon as possible. If she is not in any hurry, I will certainly marry her; but I will not. It must be decided, Mr. Wickham. What must be the consequence of this situation? I shall not go. But if you go off, I cannot find you. Let Mrs. Bennet.\"\n",
      "\n",
      "Step 700/928, Loss: 0.6980408430099487, Elapsed: 0:03:26\n",
      "0: intendBut Elizabeth soon took leave of her sister to enter into Hertfordshire, when Sir William and Lydia had an opportunity of conversing with her. Elizabeth walked to her sister, to join them again, and the next day, on the following Tuesday, Mr. Wickham, who had been employed at Wickham, was stationed at her door, when Elizabeth took leave of him; he was the only person to whom they could talk, and they began to introduce themselves to one another. It was a lively hour. Mrs. Collins listened to the talk, took the note from his book, and talked of all the people in Hertfordshire, and all this, as they were approaching the entrance, to the house of her friend Jane, who had not seen them till they arrived in Hertfordshire. But Mr. Wickham was not present at this time. Elizabeth took leave; he was gone to Epsom, to inform her that Elizabeth had been in the habit of coming to Epsom\n",
      "\n",
      "Step 800/928, Loss: 0.25620800256729126, Elapsed: 0:03:57\n",
      "0:  surround\"Your father wants to send your brother away for some reason, it seems. But you cannot persuade him to go--by his brother going--by the death of his brother.\"\n",
      "\n",
      "Step 900/928, Loss: 0.07195249944925308, Elapsed: 0:04:26\n",
      "0:  reflex\"Certainly not!\"\n",
      "\n",
      "\n",
      "Average training loss: 0.55\n",
      "Training epoch took: 0:04:34\n",
      "\n",
      "Running Validation...\n",
      "Validation Loss: 0.32\n",
      "Validation took: 0:00:10\n",
      "\n",
      "======== Epoch 2 / 4 ========\n",
      "Training...\n",
      "Step 100/928, Loss: 0.12421432137489319, Elapsed: 0:00:29\n",
      "0:  displayThe gentleman who had just stood by him could not express his surprise when he suddenly spoke, or when he mentioned the regiment in any of its ordinary form, to Lady Catherine. He listened. She was astonished, however, and in a low tone. His mind was exceedingly vacant. He was incapable of finding time to think, or to speak. Without a moment's rest he would speak again to her again and again. And when he was finished, as he spoke, he spoke less.\n",
      "\n",
      "Step 200/928, Loss: 0.2201836109161377, Elapsed: 0:00:59\n",
      "0:  pastor\"I must confess that, having given you a ball as soon as I entered the room, it would only be a little too soon. Not that I should mind that you did not dance at least twice. My father thought it necessary for me to dance, to assure me that the girls would be fine and agreeable.\"\n",
      "\n",
      "Step 300/928, Loss: 0.28554531931877136, Elapsed: 0:01:28\n",
      "0:  illicitMiss Bennet's father could not agree; however, she continued to talk. \"Oh! indeed, I will not be afraid of you. Do not let me dance with you! And do not give me any offense on our side or _our_ side! I shall not expose myself to any sort of ridicule; for I am not ashamed of it. You will dance, and you shall be laughing at him!\"\n",
      "\n",
      "Step 400/928, Loss: 0.05375513806939125, Elapsed: 0:01:58\n",
      "0:  LiberationWhen Mr. Darcy was pleased to find them at table, he entered his room, had an interview with the sisters in which they were delighted, and immediately took a chair in one of his thanks; and, on receiving them all the kindness and civility he had ever witnessed, thanked them with one parting smile and said:\n",
      "\n",
      "Step 500/928, Loss: 0.14288751780986786, Elapsed: 0:02:28\n",
      "0:  NamElizabeth turned to Elizabeth impatiently; and as she went on, she could not help noticing her uncle, when she had only to do the bidding of her uncle to understand that she was not the only one engaged in dancing, he was in the doorway, and said with much vexatious civility to her:\n",
      "\n",
      "Step 600/928, Loss: 0.4724583923816681, Elapsed: 0:02:57\n",
      "0: ION\"Lizzy,\" replied Mr. Gardiner, \"what would you say to _this_--that_ has made her _all_ unhappy? Is it really possible that she was really only angry? No, no, no--there are circumstances of life that must appear impossible. But I can answer every question with equal sincerity, earnestness, and openness; it has not happened; it was a consequence of _that_. That is all that we know. How could there be another person to whom all that is told, or not to say, could be so impossible to be true? If _that_ must make _me_ miserable, it must be no wonder, therefore, that _one_ has not done it already. Mr. Bingley is an unpragmatic, unembarrassed, self-interested man, and I am no more disposed to indulge in him than myself. But there was something at _that_ which made him so disagreeable. Something\n",
      "\n",
      "Step 700/928, Loss: 0.20261237025260925, Elapsed: 0:03:28\n",
      "0:  glimpse\"What, I assure you, is the case with so many of my friends! It is in this sort of circumstance, in my opinion, that I may be spared from their felicity by virtue of having the misfortune of afflicting a girl whose ill-treatment by herself may perhaps be a punishment to whom I myself owe the most grievous regrets. To be sure, _we_ can never hope to secure them from their own ill-treatment.\"\n",
      "\n",
      "Step 800/928, Loss: 0.2787027657032013, Elapsed: 0:03:58\n",
      "0:  Laure\"I am afraid my cousin and I have no doubt, Mr. Bennet, will not disappoint me.\"\n",
      "\n",
      "Step 900/928, Loss: 0.27853497862815857, Elapsed: 0:04:27\n",
      "0: ism\"Yes, Mr. Darcy. I have not read to-day, etc., that a person would have any objection to _his_ having such a person to-day. But, for such a person to be so wholly ignorant, and so completely ignorant as to have an illiterate mind, his own circumstances would lead to it!\n",
      "\n",
      "\n",
      "Average training loss: 0.32\n",
      "Training epoch took: 0:04:36\n",
      "\n",
      "Running Validation...\n",
      "Validation Loss: 0.32\n",
      "Validation took: 0:00:10\n",
      "\n",
      "======== Epoch 3 / 4 ========\n",
      "Training...\n",
      "Step 100/928, Loss: 0.26839178800582886, Elapsed: 0:00:29\n",
      "0: oun\"But I believe that when this is all over, and they have all the pleasure of seeing one of our daughters, I shall send them on as soon as they get to us.\"\n",
      "\n",
      "Step 200/928, Loss: 0.3082279562950134, Elapsed: 0:00:58\n",
      "0:  election\"There is not at all in this report of his marrying,\" she wrote with great solemnity in her own.\n",
      "\n",
      "Step 300/928, Loss: 0.07122837752103806, Elapsed: 0:01:27\n",
      "0:  crazy\"Oh! my dear,\" said Mrs. Bennet, \"I must try to convince you that Mr. Darcy is a very proper man indeed.\"\n",
      "\n",
      "Step 400/928, Loss: 0.809631884098053, Elapsed: 0:01:57\n",
      "0:  bench\"He certainly would not have made her any money.\n",
      "\n",
      "Step 500/928, Loss: 0.12883912026882172, Elapsed: 0:02:26\n",
      "0:  incorporated\"They are not the kind of people,\" she replied, \"of a large family. I was always the sort of young lady. I was often more disposed to have great ladies than myself.\"\n",
      "\n",
      "Step 600/928, Loss: 0.17095090448856354, Elapsed: 0:02:55\n",
      "0: Peter\"But I thought he was in great spirits in the evening.\"\n",
      "\n",
      "Step 700/928, Loss: 0.402519166469574, Elapsed: 0:03:24\n",
      "0: uring\"I had not such a choice at first,\" replied Mr. Bennet. \"But when the card-tables came down, I should have ordered myself a little early. The carriage which had brought them down was quite an unexpected affair; it was only a short walk by the Parsonage, and we did not expect to see it till the evening before, when, taking into account the particulars, the gentlemen came back.\"\n",
      "\n",
      "Step 800/928, Loss: 0.08657579123973846, Elapsed: 0:03:54\n",
      "0:  reproductive\"You have given me your permission,\" replied Darcy, with an expression of warmth. \"I shall do as you choose. Allow me to introduce myself to you on this occasion.\"\n",
      "\n",
      "Step 900/928, Loss: 0.4297565221786499, Elapsed: 0:04:23\n",
      "0:  zoneAs for myself and Wickham, therefore, I shall not think him very agreeable. But Elizabeth will hear in the course of the evening how very likely it is that, in spite of all their various accusations against Mr. Darcy, he would be equally liked by _me_. He will be equally pleased to find out whether Jane is really married, and to know which of the two will have a daughter married to _him_.\n",
      "\n",
      "\n",
      "Average training loss: 0.27\n",
      "Training epoch took: 0:04:32\n",
      "\n",
      "Running Validation...\n",
      "Validation Loss: 0.32\n",
      "Validation took: 0:00:10\n",
      "\n",
      "======== Epoch 4 / 4 ========\n",
      "Training...\n",
      "Step 100/928, Loss: 0.5378502607345581, Elapsed: 0:00:29\n",
      "0:  commits\"Not to think ill of _him_,\" said Miss Lucas. \"Whatever may be the case of _his_ disposition, _his_ behaviour has must always been marked with good breeding; for in Derbyshire we must all regard him as a man superior to any other, for even his own partiality.\"\n",
      "\n",
      "Step 200/928, Loss: 0.1135241687297821, Elapsed: 0:00:59\n",
      "0:  irony\"You will not see him again. But who will make him marry?\"\n",
      "\n",
      "Step 300/928, Loss: 0.35786405205726624, Elapsed: 0:01:28\n",
      "0:  Sah\"If he were to confess,\" she added, \"I might well hope to find him in town by the middle of next year.\"\n",
      "\n",
      "Step 400/928, Loss: 0.36303186416625977, Elapsed: 0:01:57\n",
      "0:  BryanElizabeth, alarmed, shook hands with pleasure; he bowed with somewhat less force; and while this gratifying salutation of thanks to his patroness pleased, he was in the moment of descending to her bosom; and the two cousins, having turned back, in a moment, turned towards each other, and walked together as usual.\n",
      "\n",
      "Step 500/928, Loss: 0.042656537145376205, Elapsed: 0:02:26\n",
      "0:  spirits\"Oh! no! No, no! It is a little like the present. Good Heaven! who would have thought of it! But the lady who keeps the doors is the only one who really likes doors at all! I have heard of her sometimes moving into doors all over the place. I do not know who they are but they always open the windows!\"\n",
      "\n",
      "Step 600/928, Loss: 0.9422385692596436, Elapsed: 0:02:56\n",
      "0:  sees\"I am perfectly happy to oblige them, and all my creditors are to pay the proper amount. And now, on the other hand, as to the remaining, I am sure you will not mind me waiting on them.\"\n",
      "\n",
      "Step 700/928, Loss: 0.24150368571281433, Elapsed: 0:03:26\n",
      "0:  hungry\"I am glad to see you all at Longbourn, ma'am.\"\n",
      "\n",
      "Step 800/928, Loss: 0.2977103590965271, Elapsed: 0:03:55\n",
      "0:  PT\"Yes, there was nothing in the intelligence that could justify it. But I know where he stands.\"\n",
      "\n",
      "Step 900/928, Loss: 0.1988091766834259, Elapsed: 0:04:24\n",
      "0: ü\"But you can not be serious, madam. You are a creature of small importance, my dear sir.\"\n",
      "\n",
      "\n",
      "Average training loss: 0.23\n",
      "Training epoch took: 0:04:32\n",
      "\n",
      "Running Validation...\n",
      "Validation Loss: 0.33\n",
      "Validation took: 0:00:10\n",
      "\n",
      "Training complete!\n",
      "Total training took 0:18:53 (h:mm:ss)\n"
     ]
    }
   ],
   "source": [
    "training_stats = train(model)"
   ]
  },
  {
   "cell_type": "markdown",
   "metadata": {
    "id": "VQTvJ1vRP7u4"
   },
   "source": [
    "Let's view the summary of the training process."
   ]
  },
  {
   "cell_type": "code",
   "execution_count": 28,
   "metadata": {
    "id": "6O_NbXFGMukX"
   },
   "outputs": [],
   "source": [
    "def view_stats(training_stats):\n",
    "    # Display floats with two decimal places.\n",
    "    pd.set_option('precision', 2)\n",
    "\n",
    "    # Create a DataFrame from our training statistics.\n",
    "    df_stats = pd.DataFrame(data=training_stats)\n",
    "\n",
    "    # Use the 'epoch' as the row index.\n",
    "    df_stats = df_stats.set_index('epoch')\n",
    "\n",
    "    # A hack to force the column headers to wrap.\n",
    "    #df = df.style.set_table_styles([dict(selector=\"th\",props=[('max-width', '70px')])])\n",
    "\n",
    "    # Display the table.\n",
    "    return df_stats"
   ]
  },
  {
   "cell_type": "code",
   "execution_count": 29,
   "metadata": {
    "colab": {
     "base_uri": "https://localhost:8080/",
     "height": 204
    },
    "id": "tuuNJmY2aivK",
    "outputId": "c34dc720-b213-4ac7-d9ad-1a7ba26a6722"
   },
   "outputs": [
    {
     "data": {
      "text/html": [
       "<div>\n",
       "<style scoped>\n",
       "    .dataframe tbody tr th:only-of-type {\n",
       "        vertical-align: middle;\n",
       "    }\n",
       "\n",
       "    .dataframe tbody tr th {\n",
       "        vertical-align: top;\n",
       "    }\n",
       "\n",
       "    .dataframe thead th {\n",
       "        text-align: right;\n",
       "    }\n",
       "</style>\n",
       "<table border=\"1\" class=\"dataframe\">\n",
       "  <thead>\n",
       "    <tr style=\"text-align: right;\">\n",
       "      <th></th>\n",
       "      <th>Training Loss</th>\n",
       "      <th>Valid. Loss</th>\n",
       "      <th>Training Time</th>\n",
       "      <th>Validation Time</th>\n",
       "    </tr>\n",
       "    <tr>\n",
       "      <th>epoch</th>\n",
       "      <th></th>\n",
       "      <th></th>\n",
       "      <th></th>\n",
       "      <th></th>\n",
       "    </tr>\n",
       "  </thead>\n",
       "  <tbody>\n",
       "    <tr>\n",
       "      <th>1</th>\n",
       "      <td>0.55</td>\n",
       "      <td>0.32</td>\n",
       "      <td>0:04:34</td>\n",
       "      <td>0:00:10</td>\n",
       "    </tr>\n",
       "    <tr>\n",
       "      <th>2</th>\n",
       "      <td>0.32</td>\n",
       "      <td>0.32</td>\n",
       "      <td>0:04:36</td>\n",
       "      <td>0:00:10</td>\n",
       "    </tr>\n",
       "    <tr>\n",
       "      <th>3</th>\n",
       "      <td>0.27</td>\n",
       "      <td>0.32</td>\n",
       "      <td>0:04:32</td>\n",
       "      <td>0:00:10</td>\n",
       "    </tr>\n",
       "    <tr>\n",
       "      <th>4</th>\n",
       "      <td>0.23</td>\n",
       "      <td>0.33</td>\n",
       "      <td>0:04:32</td>\n",
       "      <td>0:00:10</td>\n",
       "    </tr>\n",
       "  </tbody>\n",
       "</table>\n",
       "</div>"
      ],
      "text/plain": [
       "       Training Loss  Valid. Loss Training Time Validation Time\n",
       "epoch                                                          \n",
       "1               0.55         0.32       0:04:34         0:00:10\n",
       "2               0.32         0.32       0:04:36         0:00:10\n",
       "3               0.27         0.32       0:04:32         0:00:10\n",
       "4               0.23         0.33       0:04:32         0:00:10"
      ]
     },
     "execution_count": 29,
     "metadata": {
      "tags": []
     },
     "output_type": "execute_result"
    }
   ],
   "source": [
    "df_stats = view_stats(training_stats)\n",
    "df_stats"
   ]
  },
  {
   "cell_type": "code",
   "execution_count": 30,
   "metadata": {
    "id": "68xreA9JAmG5"
   },
   "outputs": [],
   "source": [
    "def show_status(df_stats):\n",
    "    # Use plot styling from seaborn.\n",
    "    sns.set(style='darkgrid')\n",
    "\n",
    "    # Increase the plot size and font size.\n",
    "    sns.set(font_scale=1.5)\n",
    "    plt.rcParams[\"figure.figsize\"] = (12,6)\n",
    "\n",
    "    # Plot the learning curve.\n",
    "    plt.plot(df_stats['Training Loss'], 'b-o', label=\"Training\")\n",
    "    plt.plot(df_stats['Valid. Loss'], 'g-o', label=\"Validation\")\n",
    "\n",
    "    # Label the plot.\n",
    "    plt.title(\"Training & Validation Loss\")\n",
    "    plt.xlabel(\"Epoch\")\n",
    "    plt.ylabel(\"Loss\")\n",
    "    plt.legend()\n",
    "    plt.xticks([1, 2, 3, 4])\n",
    "\n",
    "    plt.show()"
   ]
  },
  {
   "cell_type": "code",
   "execution_count": 31,
   "metadata": {
    "colab": {
     "base_uri": "https://localhost:8080/",
     "height": 427
    },
    "id": "u69buiGganIE",
    "outputId": "b3987995-f16b-45d9-df4e-568f971a204b"
   },
   "outputs": [
    {
     "data": {
      "image/png": "[encoded data removed]",
      "text/plain": [
       "<Figure size 864x432 with 1 Axes>"
      ]
     },
     "metadata": {
      "tags": []
     },
     "output_type": "display_data"
    }
   ],
   "source": [
    "show_status(df_stats)"
   ]
  },
  {
   "cell_type": "markdown",
   "metadata": {
    "id": "GfjYoa6WmkN6"
   },
   "source": [
    "# Display Model Info"
   ]
  },
  {
   "cell_type": "code",
   "execution_count": 32,
   "metadata": {
    "colab": {
     "base_uri": "https://localhost:8080/"
    },
    "id": "8PIiVlDYCtSq",
    "outputId": "98dd4150-1081-4892-e778-6ac2b29c4731"
   },
   "outputs": [
    {
     "name": "stdout",
     "output_type": "stream",
     "text": [
      "The GPT-2 model has 148 different named parameters.\n",
      "\n",
      "==== Embedding Layer ====\n",
      "\n",
      "transformer.wte.weight                                  (50259, 768)\n",
      "transformer.wpe.weight                                   (1024, 768)\n",
      "\n",
      "==== First Transformer ====\n",
      "\n",
      "transformer.h.0.ln_1.weight                                   (768,)\n",
      "transformer.h.0.ln_1.bias                                     (768,)\n",
      "transformer.h.0.attn.c_attn.weight                       (768, 2304)\n",
      "transformer.h.0.attn.c_attn.bias                             (2304,)\n",
      "transformer.h.0.attn.c_proj.weight                        (768, 768)\n",
      "transformer.h.0.attn.c_proj.bias                              (768,)\n",
      "transformer.h.0.ln_2.weight                                   (768,)\n",
      "transformer.h.0.ln_2.bias                                     (768,)\n",
      "transformer.h.0.mlp.c_fc.weight                          (768, 3072)\n",
      "transformer.h.0.mlp.c_fc.bias                                (3072,)\n",
      "transformer.h.0.mlp.c_proj.weight                        (3072, 768)\n",
      "transformer.h.0.mlp.c_proj.bias                               (768,)\n",
      "\n",
      "==== Output Layer ====\n",
      "\n",
      "transformer.ln_f.weight                                       (768,)\n",
      "transformer.ln_f.bias                                         (768,)\n"
     ]
    }
   ],
   "source": [
    "# Get all of the model's parameters as a list of tuples.\n",
    "params = list(model.named_parameters())\n",
    "\n",
    "print('The GPT-2 model has {:} different named parameters.\\n'.format(len(params)))\n",
    "print('==== Embedding Layer ====\\n')\n",
    "\n",
    "for p in params[0:2]:\n",
    "    print(\"{:<55} {:>12}\".format(p[0], str(tuple(p[1].size()))))\n",
    "\n",
    "print('\\n==== First Transformer ====\\n')\n",
    "\n",
    "for p in params[2:14]:\n",
    "    print(\"{:<55} {:>12}\".format(p[0], str(tuple(p[1].size()))))\n",
    "\n",
    "print('\\n==== Output Layer ====\\n')\n",
    "\n",
    "for p in params[-2:]:\n",
    "    print(\"{:<55} {:>12}\".format(p[0], str(tuple(p[1].size()))))"
   ]
  },
  {
   "cell_type": "markdown",
   "metadata": {
    "id": "q2079Qyn8Mt8"
   },
   "source": [
    "# Saving & Loading Fine-Tuned Model\n"
   ]
  },
  {
   "cell_type": "code",
   "execution_count": 33,
   "metadata": {
    "id": "6ulTWaOr8QNY"
   },
   "outputs": [],
   "source": [
    "def save_model(output_dir):\n",
    "    # Saving best-practices: if you use defaults names for the model, you can reload it using from_pretrained()\n",
    "\n",
    "    # Create output directory if needed\n",
    "    if not os.path.exists(output_dir):\n",
    "        os.makedirs(output_dir)\n",
    "\n",
    "    print(\"Saving model to %s\" % output_dir)\n",
    "\n",
    "    # Save a trained model, configuration and tokenizer using `save_pretrained()`.\n",
    "    # They can then be reloaded using `from_pretrained()`\n",
    "    model_to_save = model.module if hasattr(model, 'module') else model  # Take care of distributed/parallel training\n",
    "    model_to_save.save_pretrained(output_dir)\n",
    "    tokenizer.save_pretrained(output_dir)\n",
    "\n",
    "    # Good practice: save your training arguments together with the trained model\n",
    "    # torch.save(args, os.path.join(output_dir, 'training_args.bin'))\n"
   ]
  },
  {
   "cell_type": "code",
   "execution_count": 34,
   "metadata": {
    "id": "KoN9OcT-V1on"
   },
   "outputs": [],
   "source": [
    "# output_dir = './model_save/'\n",
    "# save_model(output_dir)"
   ]
  },
  {
   "cell_type": "code",
   "execution_count": 35,
   "metadata": {
    "id": "NxlZsafTC-V5"
   },
   "outputs": [],
   "source": [
    "# Copy the model files to a directory in your Google Drive.\n",
    "# !cp -r ./model_save/ $data_dir\n",
    "\n",
    "# # Load a trained model and vocabulary that you have fine-tuned\n",
    "# model = GPT2LMHeadModel.from_pretrained(output_dir)\n",
    "# tokenizer = GPT2Tokenizer.from_pretrained(output_dir)\n",
    "# model.to(device)"
   ]
  },
  {
   "cell_type": "markdown",
   "metadata": {
    "id": "ZLf6rbRglYhQ"
   },
   "source": [
    "# Generate Text"
   ]
  },
  {
   "cell_type": "code",
   "execution_count": 36,
   "metadata": {
    "id": "v4XhewaV93-_"
   },
   "outputs": [],
   "source": [
    "def generate_text(model):\n",
    "    model.eval()\n",
    "\n",
    "    prompt = \"<|startoftext|>\"\n",
    "\n",
    "    prompt = torch.tensor(tokenizer.encode(prompt)).unsqueeze(0)\n",
    "    prompt = prompt.to(device)\n",
    "\n",
    "    sample_outputs = model.generate(\n",
    "        prompt, \n",
    "        #bos_token_id=random.randint(1,30000),\n",
    "        do_sample=True,   \n",
    "        top_k=50, \n",
    "        max_length = 300,\n",
    "        top_p=0.95, \n",
    "        num_return_sequences=3\n",
    "    )\n",
    "\n",
    "    for i, sample_output in enumerate(sample_outputs):\n",
    "        print(\"{}: {}\\n\\n\".format(i, tokenizer.decode(sample_output, skip_special_tokens=True)))"
   ]
  },
  {
   "cell_type": "code",
   "execution_count": 37,
   "metadata": {
    "colab": {
     "base_uri": "https://localhost:8080/"
    },
    "id": "l-CvOmqedXUr",
    "outputId": "705e955d-2baa-4a2c-fe1b-333506ea7752"
   },
   "outputs": [
    {
     "name": "stdout",
     "output_type": "stream",
     "text": [
      "0: \"If I had been able to see you,\" said her aunt, \"there would have been very little for me.\"\n",
      "\n",
      "\n",
      "1: \"Yes, indeed, I do. They are each of us a family, and I will never look in the same room twice. Every room has its own share of beauty and its own special charm. I have always admired my brother Darcy for this. When I was in Kent, I knew his importance as a person. At that moment of his life he was the first man in the world, after my uncle and aunt had been; and I thought it incumbent to promote his advancement by encouraging him to play at heart; and I do believe I was encouraged by his character.\"\n",
      "\n",
      "\n",
      "2: \"I do not often see such good breeding.\"\n",
      "\n",
      "\n"
     ]
    }
   ],
   "source": [
    "generate_text(model)"
   ]
  },
  {
   "cell_type": "markdown",
   "metadata": {
    "id": "t4LrX5H-0nAU"
   },
   "source": [
    "# (10 pts) These aren't bad at all! Now train the model on your chosen text and report 10 example generations that you think are interesting!\n"
   ]
  },
  {
   "cell_type": "markdown",
   "metadata": {
    "id": "-LRDJV1_h735"
   },
   "source": [
    "> Use Donald Trump Speeches Data"
   ]
  },
  {
   "cell_type": "code",
   "execution_count": 38,
   "metadata": {
    "id": "oKo1xNyhQZGJ"
   },
   "outputs": [],
   "source": [
    "filename = 'speeches.txt'"
   ]
  },
  {
   "cell_type": "code",
   "execution_count": 39,
   "metadata": {
    "id": "ilQRafUmWJNG"
   },
   "outputs": [],
   "source": [
    "# copy the data to the current Colab working directory\n",
    "!cp $data_dir/$filename ."
   ]
  },
  {
   "cell_type": "code",
   "execution_count": 40,
   "metadata": {
    "id": "CwXbyZhOQ7Mt"
   },
   "outputs": [],
   "source": [
    "text_list = []\n",
    "with open(filename) as f:\n",
    "    for line in f:\n",
    "        text = line.strip()\n",
    "        if len(text) > 0:\n",
    "            text_list.append(text)"
   ]
  },
  {
   "cell_type": "code",
   "execution_count": 41,
   "metadata": {
    "colab": {
     "base_uri": "https://localhost:8080/"
    },
    "id": "rAnBeSr1RILS",
    "outputId": "823fbdc7-af7a-4d63-f22a-8224f60d240b"
   },
   "outputs": [
    {
     "data": {
      "text/plain": [
       "['\\ufeffSPEECH 1',\n",
       " \"...Thank you so much.  That's so nice.  Isn't he a great guy.  He doesn't get a fair press; he doesn't get it.  It's just not fair.  And I have to tell you I'm here, and very strongly here, because I have great respect for Steve King and have great respect likewise for Citizens United, David and everybody, and tremendous resect for the Tea Party.  Also, also the people of Iowa.  They have something in common.  Hard-working people.  They want to work, they want to make the country great.  I love the people of Iowa.  So that's the way it is.  Very simple.\",\n",
       " \"With that said, our country is really headed in the wrong direction with a president who is doing an absolutely terrible job.  The world is collapsing around us, and many of the problems we've caused.  Our president is either grossly incompetent, a word that more and more people are using, and I think I was the first to use it, or he has a completely different agenda than you want to know about, which could be possible.  In any event, Washington is broken, and our country is in serious trouble and total disarray.  Very simple.  Politicians are all talk, no action.  They are all talk and no action.  And it's constant; it never ends.\",\n",
       " \"And I'm a conservative, actually very conservative, and I'm a Republican.  And I'm very disappointed by our Republican politicians.  Because they let the president get away with absolute murder.  You see always, oh we're going to do this, we're going to--.  Nothing ever happens; nothing ever happens.\",\n",
       " \"You look at Obamacare.  A total catastrophe and by the way it really kicks in in '16 and it is going to be a disaster.  People are closing up shops.  Doctors are quitting the business.  I have a friend of mine who's a doctor, a very good doctor, a very successful guy.  He said, I have more accountants than I have patients.  And he needs because it is so complicated and so terrible and he's never had that before and he's going to close up his business.  And he was very successful guy.  But it's happening more and more.\"]"
      ]
     },
     "execution_count": 41,
     "metadata": {
      "tags": []
     },
     "output_type": "execute_result"
    }
   ],
   "source": [
    "text_list[:5]"
   ]
  },
  {
   "cell_type": "code",
   "execution_count": 42,
   "metadata": {
    "id": "dQBO3ii3aTSB"
   },
   "outputs": [],
   "source": [
    "batch_size = 4"
   ]
  },
  {
   "cell_type": "code",
   "execution_count": 43,
   "metadata": {
    "colab": {
     "base_uri": "https://localhost:8080/"
    },
    "id": "hCDJW7iPQZNT",
    "outputId": "d9b64338-76e0-4edb-ff2a-503c4910a028"
   },
   "outputs": [
    {
     "name": "stdout",
     "output_type": "stream",
     "text": [
      "3,834 training samples\n",
      "  426 validation samples\n"
     ]
    }
   ],
   "source": [
    "dataset = GPT2Dataset(text_list, tokenizer, max_length=768)\n",
    "\n",
    "# Split into training and validation sets\n",
    "train_size = int(0.9 * len(dataset))\n",
    "val_size = len(dataset) - train_size\n",
    "\n",
    "train_dataset, val_dataset = random_split(dataset, [train_size, val_size])\n",
    "\n",
    "print('{:>5,} training samples'.format(train_size))\n",
    "print('{:>5,} validation samples'.format(val_size))"
   ]
  },
  {
   "cell_type": "code",
   "execution_count": 44,
   "metadata": {
    "id": "UNCW1BMMQZPp"
   },
   "outputs": [],
   "source": [
    "# Create the DataLoaders for our training and validation datasets.\n",
    "# We'll take training samples in random order. \n",
    "train_dataloader = DataLoader(\n",
    "            train_dataset,  # The training samples.\n",
    "            sampler = RandomSampler(train_dataset), # Select batches randomly\n",
    "            batch_size = batch_size # Trains with this batch size.\n",
    "        )\n",
    "\n",
    "# For validation the order doesn't matter, so we'll just read them sequentially.\n",
    "validation_dataloader = DataLoader(\n",
    "            val_dataset, # The validation samples.\n",
    "            sampler = SequentialSampler(val_dataset), # Pull out batches sequentially.\n",
    "            batch_size = batch_size # Evaluate with this batch size.\n",
    "        )"
   ]
  },
  {
   "cell_type": "code",
   "execution_count": 45,
   "metadata": {
    "id": "asFeenaNR8zb"
   },
   "outputs": [],
   "source": [
    "# I'm not really doing anything with the config buheret\n",
    "configuration = GPT2Config.from_pretrained('gpt2', output_hidden_states=False)\n",
    "\n",
    "# instantiate the model\n",
    "model = GPT2LMHeadModel.from_pretrained(\"gpt2\", config=configuration)\n",
    "\n",
    "# this step is necessary because I've added some tokens (bos_token, etc) to the embeddings\n",
    "# otherwise the tokenizer and model tensors won't match up\n",
    "model.resize_token_embeddings(len(tokenizer))\n",
    "\n",
    "# Tell pytorch to run this model on the GPU.\n",
    "device = torch.device(\"cuda\")\n",
    "model.cuda()\n",
    "\n",
    "# Set the seed value all over the place to make this reproducible.\n",
    "seed_val = 42\n",
    "\n",
    "random.seed(seed_val)\n",
    "np.random.seed(seed_val)\n",
    "torch.manual_seed(seed_val)\n",
    "torch.cuda.manual_seed_all(seed_val)"
   ]
  },
  {
   "cell_type": "code",
   "execution_count": 46,
   "metadata": {
    "id": "0CzmmxjGR81i"
   },
   "outputs": [],
   "source": [
    "# some parameters I cooked up that work reasonably well\n",
    "\n",
    "epochs = 4\n",
    "learning_rate = 5e-4\n",
    "warmup_steps = 1e2\n",
    "epsilon = 1e-8\n",
    "\n",
    "# this produces sample output every 100 steps\n",
    "sample_every = 100"
   ]
  },
  {
   "cell_type": "code",
   "execution_count": 47,
   "metadata": {
    "id": "9TeIdjBbR83b"
   },
   "outputs": [],
   "source": [
    "# Note: AdamW is a class from the huggingface library (as opposed to pytorch) \n",
    "optimizer = AdamW(model.parameters(),\n",
    "                  lr = learning_rate,\n",
    "                  eps = epsilon\n",
    "                )"
   ]
  },
  {
   "cell_type": "code",
   "execution_count": 48,
   "metadata": {
    "id": "cmTk4WP8R85m"
   },
   "outputs": [],
   "source": [
    "# Total number of training steps is [number of batches] x [number of epochs]. \n",
    "# (Note that this is not the same as the number of training samples).\n",
    "total_steps = len(train_dataloader) * epochs\n",
    "\n",
    "# Create the learning rate scheduler.\n",
    "# This changes the learning rate as the training loop progresses\n",
    "scheduler = get_linear_schedule_with_warmup(optimizer, \n",
    "                                            num_warmup_steps = warmup_steps, \n",
    "                                            num_training_steps = total_steps)"
   ]
  },
  {
   "cell_type": "code",
   "execution_count": 49,
   "metadata": {
    "colab": {
     "base_uri": "https://localhost:8080/"
    },
    "id": "m2J0OtG3R9Ng",
    "outputId": "066039d2-8777-484c-cd5a-11d0c9408627"
   },
   "outputs": [
    {
     "name": "stdout",
     "output_type": "stream",
     "text": [
      "\n",
      "======== Epoch 1 / 4 ========\n",
      "Training...\n",
      "Step 100/959, Loss: 0.15014149248600006, Elapsed: 0:00:56\n",
      "0:  bipartisan or even a million dollars by the end of the day.\"And you know what?\" he said. \"You know what?\"\n",
      "\n",
      "Step 200/959, Loss: 0.17252852022647858, Elapsed: 0:01:53\n",
      "0:  increasingAs I watched, I thought: \"Here is what will happen. I’ll take over and make America great again.\"\n",
      "\n",
      "Step 300/959, Loss: 0.23925773799419403, Elapsed: 0:02:49\n",
      "0: dayI want to use a vote to save the United States from being destroyed by terrorist attack.\"I said, \"Where can you get rid from the bomb – and I said, \"Where can I have the whole country and they won’t make it? So go back and find another way to get rid.\" Right? So I said, \"Where can they get rid from the bomb?\"\n",
      "\n",
      "Step 400/959, Loss: 0.1552736759185791, Elapsed: 0:03:46\n",
      "0:  HangIn fact, they have a whole lot of room to grow. And they’re growing.\n",
      "\n",
      "Step 500/959, Loss: 0.17542806267738342, Elapsed: 0:04:42\n",
      "0:  foodsAnd, frankly, it’s nice. I have to tell you, it’s almost unbelievable.\n",
      "\n",
      "Step 600/959, Loss: 0.22158658504486084, Elapsed: 0:05:39\n",
      "0:  trailI want to say that I believe that we’re going to win. That’s a great thing. But we’re going to win.\n",
      "\n",
      "Step 700/959, Loss: 0.18101972341537476, Elapsed: 0:06:35\n",
      "0: intendI’m very disappointed that people are so hostile. They’re totally incompetent. There’s a reason it’s funny to be there, okay? You know, we’re supposed to come back from Mexico, okay?\n",
      "\n",
      "Step 800/959, Loss: 0.15688881278038025, Elapsed: 0:07:32\n",
      "0:  surroundWhat’s happening now, remember it. Iran is going to start producing nuclear weapons. Iran is going to have to dismantle the tunnels. There will be no American military forces inside. There is no military force inside. The only soldiers left are on the battlefield. And we will do whatever they want to do to make them very, very happy. Iran is not getting good treatment, so we’re going to do whatever they want.\n",
      "\n",
      "Step 900/959, Loss: 0.24893231689929962, Elapsed: 0:08:29\n",
      "0:  reflexIt is very interesting to me that the people on television think it is OK to continue with the same stuff and the same problems as it is.\n",
      "\n",
      "\n",
      "Average training loss: 0.28\n",
      "Training epoch took: 0:09:02\n",
      "\n",
      "Running Validation...\n",
      "Validation Loss: 0.18\n",
      "Validation took: 0:00:20\n",
      "\n",
      "======== Epoch 2 / 4 ========\n",
      "Training...\n",
      "Step 100/959, Loss: 0.3434421718120575, Elapsed: 0:00:56\n",
      "0:  displayYou know, I’m self-funding my campaign just so you understand what I’m saying.\n",
      "\n",
      "Step 200/959, Loss: 0.2110617607831955, Elapsed: 0:01:53\n",
      "0:  pastorAnd this is what happened with TPP, is TPP will cost them something like $58 billion. If I had to say \"Yes\" to that, I probably won’t even have a clue.\n",
      "\n",
      "Step 300/959, Loss: 0.20053306221961975, Elapsed: 0:02:49\n",
      "0:  illicitI see these guys all over the world. They're trying to knock down a wall. They're trying to rip off the great middle class. Everybody else is watching. So I think I have a fairly high chance of winning. That could be the biggest story.\n",
      "\n",
      "Step 400/959, Loss: 0.18228141963481903, Elapsed: 0:03:46\n",
      "0:  LiberationAnd you know, when you're in a position of power and you know the power of the American people – you know the power of the people – the power of the people…\n",
      "\n",
      "Step 500/959, Loss: 0.09663454443216324, Elapsed: 0:04:42\n",
      "0:  NamThat’s the right question. We’re going to win on trade. Okay? Thank you very much, everybody.\n",
      "\n",
      "Step 600/959, Loss: 0.15896257758140564, Elapsed: 0:05:39\n",
      "0: IONAnd when I see that number, I would not even tell that to anybody of the press. I would let the press know that it’s a big number. Right?\n",
      "\n",
      "Step 700/959, Loss: 0.1528124213218689, Elapsed: 0:06:35\n",
      "0:  glimpseI can’t wait to go back to that country. I can’t wait to be back in. I know all of these countries that had the greatest trade deals. Those who can’t get to China and all of these countries that had the greatest manufacturing. We’re going to come in and we’re going to get jobs for our workers. We’re going to get jobs for our families.\n",
      "\n",
      "Step 800/959, Loss: 0.11033007502555847, Elapsed: 0:07:32\n",
      "0:  LaureI mean, he’s not going to change anything. So he’s going to do this, and he’s going to do it very nicely. He’s going to do it very nicely. And he’s going to have a very, very successful period.\n",
      "\n",
      "Step 900/959, Loss: 0.13471867144107819, Elapsed: 0:08:29\n",
      "0: ismYou know, when I said that, it’s a beautiful, beautiful sentence. I said that the Second Amendment of our country is absolute.\n",
      "\n",
      "\n",
      "Average training loss: 0.17\n",
      "Training epoch took: 0:09:02\n",
      "\n",
      "Running Validation...\n",
      "Validation Loss: 0.17\n",
      "Validation took: 0:00:20\n",
      "\n",
      "======== Epoch 3 / 4 ========\n",
      "Training...\n",
      "Step 100/959, Loss: 0.1504034698009491, Elapsed: 0:00:56\n",
      "0: ounAnd then people start to look at me. I’m a free trader. And people will buy stuff because I’m a bigger beneficiary. Right?\n",
      "\n",
      "Step 200/959, Loss: 0.14831511676311493, Elapsed: 0:01:53\n",
      "0:  electionAnd then I see one day, the wall is falling. I see it everywhere. I see it all over. What did they build, in terms of money, in terms of infrastructure and everything else?\n",
      "\n",
      "Step 300/959, Loss: 0.1280929446220398, Elapsed: 0:02:49\n",
      "0:  crazyWe can’t let them have – look, Hillary Clinton said it and I’ve received so many awards she should have been ashamed of it but she shouldn’t have done it.\n",
      "\n",
      "Step 400/959, Loss: 0.1131189838051796, Elapsed: 0:03:46\n",
      "0:  benchWell, let me explain. I have great credit because I’ve spent my life in this country. I’ve built an incredible business. I’ve built a great company.\n",
      "\n",
      "Step 500/959, Loss: 0.1204335168004036, Elapsed: 0:04:43\n",
      "0:  incorporatedAnd, as somebody said – \"I can’t believe it. I can’t believe it.\"\n",
      "\n",
      "Step 600/959, Loss: 0.058339424431324005, Elapsed: 0:05:39\n",
      "0: PeterWhat do we get? We’re going to bring money back into the country. We’re going to bring education, we’re going to make the military so strong, we’re going to make our military so strong that nobody in the military feels the need to go into Afghanistan. We’re going to be a great military. We’re going to take care of our vets, we’re going to have great hospitals and we’re going to be a great business. We’re going to be a great, great — we’re going to have — we’re going to make the military so strong.\n",
      "\n",
      "Step 700/959, Loss: 0.15424372255802155, Elapsed: 0:06:37\n",
      "0: uringI’m not going to tell your friends who you are. You are too smart for our president. You know you’re such an incredible guy. It’s so beautiful. It’s so beautiful to watch a young woman, in her early 20s,17, get taken out by an army jeep and killed in front of a packed house.\n",
      "\n",
      "Step 800/959, Loss: 0.13016223907470703, Elapsed: 0:07:34\n",
      "0:  reproductiveBut people know what’s happening. I mean, the press should have seen it. It was a total lie.\n",
      "\n",
      "Step 900/959, Loss: 0.14321832358837128, Elapsed: 0:08:30\n",
      "0:  zoneI want everybody to do well in Iowa. I have people that like me and they’re having fundraisers. You know, I see the numbers and we love the people. I’ve been with the people for many years and they’re having fundraisers.\n",
      "\n",
      "\n",
      "Average training loss: 0.14\n",
      "Training epoch took: 0:09:03\n",
      "\n",
      "Running Validation...\n",
      "Validation Loss: 0.18\n",
      "Validation took: 0:00:20\n",
      "\n",
      "======== Epoch 4 / 4 ========\n",
      "Training...\n",
      "Step 100/959, Loss: 0.103073351085186, Elapsed: 0:00:56\n",
      "0:  commitsI’m a unifier. I don’t have to be politically correct but I don’t have to be like everybody else.\n",
      "\n",
      "Step 200/959, Loss: 0.07757634669542313, Elapsed: 0:01:53\n",
      "0:  ironyI don’t want to be losing my jobs. I don’t want to being losing my employees. We have so many executives that are really leaving our country.\n",
      "\n",
      "Step 300/959, Loss: 0.0715007409453392, Elapsed: 0:02:49\n",
      "0:  SahAnd then there was Obamacare. And everybody agrees to have it, which is a disaster. I mean, what it's going to cost is $17.50, and what it's going to cost is not to be covered. People like to have it.\n",
      "\n",
      "Step 400/959, Loss: 0.05964028090238571, Elapsed: 0:03:46\n",
      "0:  BryanSo I think we should just do it and we should have had one last shot. Okay?\n",
      "\n",
      "Step 500/959, Loss: 0.06793060898780823, Elapsed: 0:04:43\n",
      "0:  spiritsWe’re losing our manufacturing jobs to Mexico.\n",
      "\n",
      "Step 600/959, Loss: 0.12886811792850494, Elapsed: 0:05:39\n",
      "0:  seesI would have approved it if I could. But I wouldn’t have approved it because so strongly I felt the heat we should have had because we’re going to have to do things about it. The heat is now getting to show what’s going on. The heat is on our government, our communities, and it’s getting to show that there is something going on. And we can do something about it.\n",
      "\n",
      "Step 700/959, Loss: 0.11032822728157043, Elapsed: 0:06:36\n",
      "0:  hungryI think one of the reasons I’m winning is because I go with strategy.\n",
      "\n",
      "Step 800/959, Loss: 0.17668461799621582, Elapsed: 0:07:32\n",
      "0:  PTThey are using Komatsu tractors, which are great. I have two and I’m getting ready to move them into Mobile. They are great stuff.\n",
      "\n",
      "Step 900/959, Loss: 0.08211641758680344, Elapsed: 0:08:29\n",
      "0: üAnd I have thousands of people giving me millions. I’m going to give you millions and millions of dollars and millions of dollars right now.\n",
      "\n",
      "\n",
      "Average training loss: 0.12\n",
      "Training epoch took: 0:09:02\n",
      "\n",
      "Running Validation...\n",
      "Validation Loss: 0.18\n",
      "Validation took: 0:00:20\n",
      "\n",
      "Training complete!\n",
      "Total training took 0:37:29 (h:mm:ss)\n"
     ]
    }
   ],
   "source": [
    "training_stats = train(model)"
   ]
  },
  {
   "cell_type": "code",
   "execution_count": 50,
   "metadata": {
    "colab": {
     "base_uri": "https://localhost:8080/",
     "height": 204
    },
    "id": "zkwjziTMdsgT",
    "outputId": "41d1d0f9-4e15-4b5e-c2dd-8ea9e4590769"
   },
   "outputs": [
    {
     "data": {
      "text/html": [
       "<div>\n",
       "<style scoped>\n",
       "    .dataframe tbody tr th:only-of-type {\n",
       "        vertical-align: middle;\n",
       "    }\n",
       "\n",
       "    .dataframe tbody tr th {\n",
       "        vertical-align: top;\n",
       "    }\n",
       "\n",
       "    .dataframe thead th {\n",
       "        text-align: right;\n",
       "    }\n",
       "</style>\n",
       "<table border=\"1\" class=\"dataframe\">\n",
       "  <thead>\n",
       "    <tr style=\"text-align: right;\">\n",
       "      <th></th>\n",
       "      <th>Training Loss</th>\n",
       "      <th>Valid. Loss</th>\n",
       "      <th>Training Time</th>\n",
       "      <th>Validation Time</th>\n",
       "    </tr>\n",
       "    <tr>\n",
       "      <th>epoch</th>\n",
       "      <th></th>\n",
       "      <th></th>\n",
       "      <th></th>\n",
       "      <th></th>\n",
       "    </tr>\n",
       "  </thead>\n",
       "  <tbody>\n",
       "    <tr>\n",
       "      <th>1</th>\n",
       "      <td>0.28</td>\n",
       "      <td>0.18</td>\n",
       "      <td>0:09:02</td>\n",
       "      <td>0:00:20</td>\n",
       "    </tr>\n",
       "    <tr>\n",
       "      <th>2</th>\n",
       "      <td>0.17</td>\n",
       "      <td>0.17</td>\n",
       "      <td>0:09:02</td>\n",
       "      <td>0:00:20</td>\n",
       "    </tr>\n",
       "    <tr>\n",
       "      <th>3</th>\n",
       "      <td>0.14</td>\n",
       "      <td>0.18</td>\n",
       "      <td>0:09:03</td>\n",
       "      <td>0:00:20</td>\n",
       "    </tr>\n",
       "    <tr>\n",
       "      <th>4</th>\n",
       "      <td>0.12</td>\n",
       "      <td>0.18</td>\n",
       "      <td>0:09:02</td>\n",
       "      <td>0:00:20</td>\n",
       "    </tr>\n",
       "  </tbody>\n",
       "</table>\n",
       "</div>"
      ],
      "text/plain": [
       "       Training Loss  Valid. Loss Training Time Validation Time\n",
       "epoch                                                          \n",
       "1               0.28         0.18       0:09:02         0:00:20\n",
       "2               0.17         0.17       0:09:02         0:00:20\n",
       "3               0.14         0.18       0:09:03         0:00:20\n",
       "4               0.12         0.18       0:09:02         0:00:20"
      ]
     },
     "execution_count": 50,
     "metadata": {
      "tags": []
     },
     "output_type": "execute_result"
    }
   ],
   "source": [
    "df_stats = view_stats(training_stats)\n",
    "df_stats"
   ]
  },
  {
   "cell_type": "code",
   "execution_count": 51,
   "metadata": {
    "colab": {
     "base_uri": "https://localhost:8080/",
     "height": 427
    },
    "id": "j9u-SKDpdsiR",
    "outputId": "20b40242-8e02-40fb-d63d-e16d0a7e63af"
   },
   "outputs": [
    {
     "data": {
      "image/png": "[encoded data removed]",
      "text/plain": [
       "<Figure size 864x432 with 1 Axes>"
      ]
     },
     "metadata": {
      "tags": []
     },
     "output_type": "display_data"
    }
   ],
   "source": [
    "show_status(df_stats)"
   ]
  },
  {
   "cell_type": "code",
   "execution_count": 52,
   "metadata": {
    "colab": {
     "base_uri": "https://localhost:8080/"
    },
    "id": "zliHLeqldnsu",
    "outputId": "356459b5-4bc7-40e6-ed24-739dd6881e9c"
   },
   "outputs": [
    {
     "name": "stdout",
     "output_type": "stream",
     "text": [
      "0: We’re going to protect everybody. We’re going to protect the Second Amendment. You know, we are going to protect everybody. And remember, we’re the law enforcement state.\n",
      "\n",
      "\n",
      "1: Now, he’s getting a call from ABC, which is much bigger than I thought I was going to be able to handle. So we are going to try to do something about that. I believe we’re going to have a very successful period of time. But it’s going to be very expensive. You know, when people check into a hotel and they don’t want to wait, when they want to wait because they’re being treated badly, when they have the choice, they go through a whole process that takes them $200 million or $300 million.\n",
      "\n",
      "\n",
      "2: And what happened is — they were in Pakistan, they were in Yemen, they were on the move, and they were looking for a job, and they couldn’t get it.\n",
      "\n",
      "\n"
     ]
    }
   ],
   "source": [
    "generate_text(model)"
   ]
  },
  {
   "cell_type": "code",
   "execution_count": 53,
   "metadata": {
    "colab": {
     "base_uri": "https://localhost:8080/"
    },
    "id": "4det1x3pdnu4",
    "outputId": "502d87d8-596d-4eba-ea96-7eb2f97459df"
   },
   "outputs": [
    {
     "name": "stdout",
     "output_type": "stream",
     "text": [
      "Saving model to ./model_save/\n"
     ]
    }
   ],
   "source": [
    "output_dir = './model_save/'\n",
    "save_model(output_dir)"
   ]
  },
  {
   "cell_type": "code",
   "execution_count": 54,
   "metadata": {
    "id": "9z0aSfEMR9Po"
   },
   "outputs": [],
   "source": [
    "#Copy the model files to a directory in your Google Drive.\n",
    "!cp -r ./model_save/ $data_dir"
   ]
  },
  {
   "cell_type": "code",
   "execution_count": null,
   "metadata": {
    "id": "i5-01aiGR9R0"
   },
   "outputs": [],
   "source": []
  }
 ],
 "metadata": {
  "accelerator": "GPU",
  "colab": {
   "collapsed_sections": [],
   "machine_shape": "hm",
   "name": "“Homework 5-Transformers and Text-Generation (Part 2)”",
   "provenance": [],
   "toc_visible": true
  },
  "kernelspec": {
   "display_name": "Python 3",
   "language": "python",
   "name": "python3"
  },
  "language_info": {
   "codemirror_mode": {
    "name": "ipython",
    "version": 3
   },
   "file_extension": ".py",
   "mimetype": "text/x-python",
   "name": "python",
   "nbconvert_exporter": "python",
   "pygments_lexer": "ipython3",
   "version": "3.7.5"
  },
  "widgets": {
   "application/vnd.jupyter.widget-state+json": {
    "0f4b17b737b141ba8890b63de537f8d7": {
     "model_module": "@jupyter-widgets/controls",
     "model_name": "FloatProgressModel",
     "state": {
      "_dom_classes": [],
      "_model_module": "@jupyter-widgets/controls",
      "_model_module_version": "1.5.0",
      "_model_name": "FloatProgressModel",
      "_view_count": null,
      "_view_module": "@jupyter-widgets/controls",
      "_view_module_version": "1.5.0",
      "_view_name": "ProgressView",
      "bar_style": "success",
      "description": "Downloading: 100%",
      "description_tooltip": null,
      "layout": "IPY_MODEL_b5133619ed5d47f3b9c1665313383d08",
      "max": 548118077,
      "min": 0,
      "orientation": "horizontal",
      "style": "IPY_MODEL_5fcbc55fbead4226b90c2b044a7d5b4d",
      "value": 548118077
     }
    },
    "1954d93d68f146b4aa4188fbb9ddc056": {
     "model_module": "@jupyter-widgets/controls",
     "model_name": "HTMLModel",
     "state": {
      "_dom_classes": [],
      "_model_module": "@jupyter-widgets/controls",
      "_model_module_version": "1.5.0",
      "_model_name": "HTMLModel",
      "_view_count": null,
      "_view_module": "@jupyter-widgets/controls",
      "_view_module_version": "1.5.0",
      "_view_name": "HTMLView",
      "description": "",
      "description_tooltip": null,
      "layout": "IPY_MODEL_852bdc854ac0432eb3ad935286f604d5",
      "placeholder": "​",
      "style": "IPY_MODEL_75678c9c31034b7d8e40be620d7208b3",
      "value": " 665/665 [00:00&lt;00:00, 1.35kB/s]"
     }
    },
    "1a5513ca665246f189a551020456c5b6": {
     "model_module": "@jupyter-widgets/controls",
     "model_name": "HBoxModel",
     "state": {
      "_dom_classes": [],
      "_model_module": "@jupyter-widgets/controls",
      "_model_module_version": "1.5.0",
      "_model_name": "HBoxModel",
      "_view_count": null,
      "_view_module": "@jupyter-widgets/controls",
      "_view_module_version": "1.5.0",
      "_view_name": "HBoxView",
      "box_style": "",
      "children": [
       "IPY_MODEL_816f88e35c134ff1994c5f6fed14c5b4",
       "IPY_MODEL_f4682539b7024e5292d494295fc27f6a"
      ],
      "layout": "IPY_MODEL_b7d2d0fd6e93428dbb78146eaa05d3d0"
     }
    },
    "28c036de412e48b5b3080f50fe5e7742": {
     "model_module": "@jupyter-widgets/base",
     "model_name": "LayoutModel",
     "state": {
      "_model_module": "@jupyter-widgets/base",
      "_model_module_version": "1.2.0",
      "_model_name": "LayoutModel",
      "_view_count": null,
      "_view_module": "@jupyter-widgets/base",
      "_view_module_version": "1.2.0",
      "_view_name": "LayoutView",
      "align_content": null,
      "align_items": null,
      "align_self": null,
      "border": null,
      "bottom": null,
      "display": null,
      "flex": null,
      "flex_flow": null,
      "grid_area": null,
      "grid_auto_columns": null,
      "grid_auto_flow": null,
      "grid_auto_rows": null,
      "grid_column": null,
      "grid_gap": null,
      "grid_row": null,
      "grid_template_areas": null,
      "grid_template_columns": null,
      "grid_template_rows": null,
      "height": null,
      "justify_content": null,
      "justify_items": null,
      "left": null,
      "margin": null,
      "max_height": null,
      "max_width": null,
      "min_height": null,
      "min_width": null,
      "object_fit": null,
      "object_position": null,
      "order": null,
      "overflow": null,
      "overflow_x": null,
      "overflow_y": null,
      "padding": null,
      "right": null,
      "top": null,
      "visibility": null,
      "width": null
     }
    },
    "2a7662eecf8e4a54a8ac2e12caf9c718": {
     "model_module": "@jupyter-widgets/controls",
     "model_name": "HTMLModel",
     "state": {
      "_dom_classes": [],
      "_model_module": "@jupyter-widgets/controls",
      "_model_module_version": "1.5.0",
      "_model_name": "HTMLModel",
      "_view_count": null,
      "_view_module": "@jupyter-widgets/controls",
      "_view_module_version": "1.5.0",
      "_view_name": "HTMLView",
      "description": "",
      "description_tooltip": null,
      "layout": "IPY_MODEL_e32a0046dead4ba181299bd74b635235",
      "placeholder": "​",
      "style": "IPY_MODEL_7db34bd03d2f4fdfb832e4642c20a033",
      "value": " 456k/456k [00:01&lt;00:00, 245kB/s]"
     }
    },
    "31d85e82599f48ea943b503b810444e1": {
     "model_module": "@jupyter-widgets/controls",
     "model_name": "DescriptionStyleModel",
     "state": {
      "_model_module": "@jupyter-widgets/controls",
      "_model_module_version": "1.5.0",
      "_model_name": "DescriptionStyleModel",
      "_view_count": null,
      "_view_module": "@jupyter-widgets/base",
      "_view_module_version": "1.2.0",
      "_view_name": "StyleView",
      "description_width": ""
     }
    },
    "3e0bb351b546426fa510095338d86058": {
     "model_module": "@jupyter-widgets/controls",
     "model_name": "DescriptionStyleModel",
     "state": {
      "_model_module": "@jupyter-widgets/controls",
      "_model_module_version": "1.5.0",
      "_model_name": "DescriptionStyleModel",
      "_view_count": null,
      "_view_module": "@jupyter-widgets/base",
      "_view_module_version": "1.2.0",
      "_view_name": "StyleView",
      "description_width": ""
     }
    },
    "4788084e0b6e44bb84acbe7da93aebfc": {
     "model_module": "@jupyter-widgets/base",
     "model_name": "LayoutModel",
     "state": {
      "_model_module": "@jupyter-widgets/base",
      "_model_module_version": "1.2.0",
      "_model_name": "LayoutModel",
      "_view_count": null,
      "_view_module": "@jupyter-widgets/base",
      "_view_module_version": "1.2.0",
      "_view_name": "LayoutView",
      "align_content": null,
      "align_items": null,
      "align_self": null,
      "border": null,
      "bottom": null,
      "display": null,
      "flex": null,
      "flex_flow": null,
      "grid_area": null,
      "grid_auto_columns": null,
      "grid_auto_flow": null,
      "grid_auto_rows": null,
      "grid_column": null,
      "grid_gap": null,
      "grid_row": null,
      "grid_template_areas": null,
      "grid_template_columns": null,
      "grid_template_rows": null,
      "height": null,
      "justify_content": null,
      "justify_items": null,
      "left": null,
      "margin": null,
      "max_height": null,
      "max_width": null,
      "min_height": null,
      "min_width": null,
      "object_fit": null,
      "object_position": null,
      "order": null,
      "overflow": null,
      "overflow_x": null,
      "overflow_y": null,
      "padding": null,
      "right": null,
      "top": null,
      "visibility": null,
      "width": null
     }
    },
    "4db8dcb2d597418795720506ce1cbeed": {
     "model_module": "@jupyter-widgets/base",
     "model_name": "LayoutModel",
     "state": {
      "_model_module": "@jupyter-widgets/base",
      "_model_module_version": "1.2.0",
      "_model_name": "LayoutModel",
      "_view_count": null,
      "_view_module": "@jupyter-widgets/base",
      "_view_module_version": "1.2.0",
      "_view_name": "LayoutView",
      "align_content": null,
      "align_items": null,
      "align_self": null,
      "border": null,
      "bottom": null,
      "display": null,
      "flex": null,
      "flex_flow": null,
      "grid_area": null,
      "grid_auto_columns": null,
      "grid_auto_flow": null,
      "grid_auto_rows": null,
      "grid_column": null,
      "grid_gap": null,
      "grid_row": null,
      "grid_template_areas": null,
      "grid_template_columns": null,
      "grid_template_rows": null,
      "height": null,
      "justify_content": null,
      "justify_items": null,
      "left": null,
      "margin": null,
      "max_height": null,
      "max_width": null,
      "min_height": null,
      "min_width": null,
      "object_fit": null,
      "object_position": null,
      "order": null,
      "overflow": null,
      "overflow_x": null,
      "overflow_y": null,
      "padding": null,
      "right": null,
      "top": null,
      "visibility": null,
      "width": null
     }
    },
    "55e6ac3baafb44a98b888fabce922e22": {
     "model_module": "@jupyter-widgets/base",
     "model_name": "LayoutModel",
     "state": {
      "_model_module": "@jupyter-widgets/base",
      "_model_module_version": "1.2.0",
      "_model_name": "LayoutModel",
      "_view_count": null,
      "_view_module": "@jupyter-widgets/base",
      "_view_module_version": "1.2.0",
      "_view_name": "LayoutView",
      "align_content": null,
      "align_items": null,
      "align_self": null,
      "border": null,
      "bottom": null,
      "display": null,
      "flex": null,
      "flex_flow": null,
      "grid_area": null,
      "grid_auto_columns": null,
      "grid_auto_flow": null,
      "grid_auto_rows": null,
      "grid_column": null,
      "grid_gap": null,
      "grid_row": null,
      "grid_template_areas": null,
      "grid_template_columns": null,
      "grid_template_rows": null,
      "height": null,
      "justify_content": null,
      "justify_items": null,
      "left": null,
      "margin": null,
      "max_height": null,
      "max_width": null,
      "min_height": null,
      "min_width": null,
      "object_fit": null,
      "object_position": null,
      "order": null,
      "overflow": null,
      "overflow_x": null,
      "overflow_y": null,
      "padding": null,
      "right": null,
      "top": null,
      "visibility": null,
      "width": null
     }
    },
    "5fcbc55fbead4226b90c2b044a7d5b4d": {
     "model_module": "@jupyter-widgets/controls",
     "model_name": "ProgressStyleModel",
     "state": {
      "_model_module": "@jupyter-widgets/controls",
      "_model_module_version": "1.5.0",
      "_model_name": "ProgressStyleModel",
      "_view_count": null,
      "_view_module": "@jupyter-widgets/base",
      "_view_module_version": "1.2.0",
      "_view_name": "StyleView",
      "bar_color": null,
      "description_width": "initial"
     }
    },
    "66a84da8155b4f95be231bae9b83c2c9": {
     "model_module": "@jupyter-widgets/base",
     "model_name": "LayoutModel",
     "state": {
      "_model_module": "@jupyter-widgets/base",
      "_model_module_version": "1.2.0",
      "_model_name": "LayoutModel",
      "_view_count": null,
      "_view_module": "@jupyter-widgets/base",
      "_view_module_version": "1.2.0",
      "_view_name": "LayoutView",
      "align_content": null,
      "align_items": null,
      "align_self": null,
      "border": null,
      "bottom": null,
      "display": null,
      "flex": null,
      "flex_flow": null,
      "grid_area": null,
      "grid_auto_columns": null,
      "grid_auto_flow": null,
      "grid_auto_rows": null,
      "grid_column": null,
      "grid_gap": null,
      "grid_row": null,
      "grid_template_areas": null,
      "grid_template_columns": null,
      "grid_template_rows": null,
      "height": null,
      "justify_content": null,
      "justify_items": null,
      "left": null,
      "margin": null,
      "max_height": null,
      "max_width": null,
      "min_height": null,
      "min_width": null,
      "object_fit": null,
      "object_position": null,
      "order": null,
      "overflow": null,
      "overflow_x": null,
      "overflow_y": null,
      "padding": null,
      "right": null,
      "top": null,
      "visibility": null,
      "width": null
     }
    },
    "75678c9c31034b7d8e40be620d7208b3": {
     "model_module": "@jupyter-widgets/controls",
     "model_name": "DescriptionStyleModel",
     "state": {
      "_model_module": "@jupyter-widgets/controls",
      "_model_module_version": "1.5.0",
      "_model_name": "DescriptionStyleModel",
      "_view_count": null,
      "_view_module": "@jupyter-widgets/base",
      "_view_module_version": "1.2.0",
      "_view_name": "StyleView",
      "description_width": ""
     }
    },
    "7a397b86982d4c939d3c96fae8bea512": {
     "model_module": "@jupyter-widgets/controls",
     "model_name": "FloatProgressModel",
     "state": {
      "_dom_classes": [],
      "_model_module": "@jupyter-widgets/controls",
      "_model_module_version": "1.5.0",
      "_model_name": "FloatProgressModel",
      "_view_count": null,
      "_view_module": "@jupyter-widgets/controls",
      "_view_module_version": "1.5.0",
      "_view_name": "ProgressView",
      "bar_style": "success",
      "description": "Downloading: 100%",
      "description_tooltip": null,
      "layout": "IPY_MODEL_55e6ac3baafb44a98b888fabce922e22",
      "max": 665,
      "min": 0,
      "orientation": "horizontal",
      "style": "IPY_MODEL_b431601fd45444bc8f67a89914425470",
      "value": 665
     }
    },
    "7a7937f21ceb49dfad9aaeb9a6f5dedf": {
     "model_module": "@jupyter-widgets/controls",
     "model_name": "FloatProgressModel",
     "state": {
      "_dom_classes": [],
      "_model_module": "@jupyter-widgets/controls",
      "_model_module_version": "1.5.0",
      "_model_name": "FloatProgressModel",
      "_view_count": null,
      "_view_module": "@jupyter-widgets/controls",
      "_view_module_version": "1.5.0",
      "_view_name": "ProgressView",
      "bar_style": "success",
      "description": "Downloading: 100%",
      "description_tooltip": null,
      "layout": "IPY_MODEL_87a48db84c7949e1a2374b9bfa1b9815",
      "max": 456318,
      "min": 0,
      "orientation": "horizontal",
      "style": "IPY_MODEL_b1f13cdc04804cac803c9366306dd366",
      "value": 456318
     }
    },
    "7b02b1707f054600b9d3ec54e9e27ce9": {
     "model_module": "@jupyter-widgets/base",
     "model_name": "LayoutModel",
     "state": {
      "_model_module": "@jupyter-widgets/base",
      "_model_module_version": "1.2.0",
      "_model_name": "LayoutModel",
      "_view_count": null,
      "_view_module": "@jupyter-widgets/base",
      "_view_module_version": "1.2.0",
      "_view_name": "LayoutView",
      "align_content": null,
      "align_items": null,
      "align_self": null,
      "border": null,
      "bottom": null,
      "display": null,
      "flex": null,
      "flex_flow": null,
      "grid_area": null,
      "grid_auto_columns": null,
      "grid_auto_flow": null,
      "grid_auto_rows": null,
      "grid_column": null,
      "grid_gap": null,
      "grid_row": null,
      "grid_template_areas": null,
      "grid_template_columns": null,
      "grid_template_rows": null,
      "height": null,
      "justify_content": null,
      "justify_items": null,
      "left": null,
      "margin": null,
      "max_height": null,
      "max_width": null,
      "min_height": null,
      "min_width": null,
      "object_fit": null,
      "object_position": null,
      "order": null,
      "overflow": null,
      "overflow_x": null,
      "overflow_y": null,
      "padding": null,
      "right": null,
      "top": null,
      "visibility": null,
      "width": null
     }
    },
    "7db34bd03d2f4fdfb832e4642c20a033": {
     "model_module": "@jupyter-widgets/controls",
     "model_name": "DescriptionStyleModel",
     "state": {
      "_model_module": "@jupyter-widgets/controls",
      "_model_module_version": "1.5.0",
      "_model_name": "DescriptionStyleModel",
      "_view_count": null,
      "_view_module": "@jupyter-widgets/base",
      "_view_module_version": "1.2.0",
      "_view_name": "StyleView",
      "description_width": ""
     }
    },
    "802f16295e91496daba66fc3222384ab": {
     "model_module": "@jupyter-widgets/controls",
     "model_name": "HBoxModel",
     "state": {
      "_dom_classes": [],
      "_model_module": "@jupyter-widgets/controls",
      "_model_module_version": "1.5.0",
      "_model_name": "HBoxModel",
      "_view_count": null,
      "_view_module": "@jupyter-widgets/controls",
      "_view_module_version": "1.5.0",
      "_view_name": "HBoxView",
      "box_style": "",
      "children": [
       "IPY_MODEL_7a397b86982d4c939d3c96fae8bea512",
       "IPY_MODEL_1954d93d68f146b4aa4188fbb9ddc056"
      ],
      "layout": "IPY_MODEL_8aea2c1d5db944779d2f24e775ea0e09"
     }
    },
    "816f88e35c134ff1994c5f6fed14c5b4": {
     "model_module": "@jupyter-widgets/controls",
     "model_name": "FloatProgressModel",
     "state": {
      "_dom_classes": [],
      "_model_module": "@jupyter-widgets/controls",
      "_model_module_version": "1.5.0",
      "_model_name": "FloatProgressModel",
      "_view_count": null,
      "_view_module": "@jupyter-widgets/controls",
      "_view_module_version": "1.5.0",
      "_view_name": "ProgressView",
      "bar_style": "success",
      "description": "Downloading: 100%",
      "description_tooltip": null,
      "layout": "IPY_MODEL_4db8dcb2d597418795720506ce1cbeed",
      "max": 1042301,
      "min": 0,
      "orientation": "horizontal",
      "style": "IPY_MODEL_9a2faca37c6a46498536b05dad8bba50",
      "value": 1042301
     }
    },
    "852bdc854ac0432eb3ad935286f604d5": {
     "model_module": "@jupyter-widgets/base",
     "model_name": "LayoutModel",
     "state": {
      "_model_module": "@jupyter-widgets/base",
      "_model_module_version": "1.2.0",
      "_model_name": "LayoutModel",
      "_view_count": null,
      "_view_module": "@jupyter-widgets/base",
      "_view_module_version": "1.2.0",
      "_view_name": "LayoutView",
      "align_content": null,
      "align_items": null,
      "align_self": null,
      "border": null,
      "bottom": null,
      "display": null,
      "flex": null,
      "flex_flow": null,
      "grid_area": null,
      "grid_auto_columns": null,
      "grid_auto_flow": null,
      "grid_auto_rows": null,
      "grid_column": null,
      "grid_gap": null,
      "grid_row": null,
      "grid_template_areas": null,
      "grid_template_columns": null,
      "grid_template_rows": null,
      "height": null,
      "justify_content": null,
      "justify_items": null,
      "left": null,
      "margin": null,
      "max_height": null,
      "max_width": null,
      "min_height": null,
      "min_width": null,
      "object_fit": null,
      "object_position": null,
      "order": null,
      "overflow": null,
      "overflow_x": null,
      "overflow_y": null,
      "padding": null,
      "right": null,
      "top": null,
      "visibility": null,
      "width": null
     }
    },
    "86e0c4ed74dd44c8a705ea79f598db57": {
     "model_module": "@jupyter-widgets/base",
     "model_name": "LayoutModel",
     "state": {
      "_model_module": "@jupyter-widgets/base",
      "_model_module_version": "1.2.0",
      "_model_name": "LayoutModel",
      "_view_count": null,
      "_view_module": "@jupyter-widgets/base",
      "_view_module_version": "1.2.0",
      "_view_name": "LayoutView",
      "align_content": null,
      "align_items": null,
      "align_self": null,
      "border": null,
      "bottom": null,
      "display": null,
      "flex": null,
      "flex_flow": null,
      "grid_area": null,
      "grid_auto_columns": null,
      "grid_auto_flow": null,
      "grid_auto_rows": null,
      "grid_column": null,
      "grid_gap": null,
      "grid_row": null,
      "grid_template_areas": null,
      "grid_template_columns": null,
      "grid_template_rows": null,
      "height": null,
      "justify_content": null,
      "justify_items": null,
      "left": null,
      "margin": null,
      "max_height": null,
      "max_width": null,
      "min_height": null,
      "min_width": null,
      "object_fit": null,
      "object_position": null,
      "order": null,
      "overflow": null,
      "overflow_x": null,
      "overflow_y": null,
      "padding": null,
      "right": null,
      "top": null,
      "visibility": null,
      "width": null
     }
    },
    "87a48db84c7949e1a2374b9bfa1b9815": {
     "model_module": "@jupyter-widgets/base",
     "model_name": "LayoutModel",
     "state": {
      "_model_module": "@jupyter-widgets/base",
      "_model_module_version": "1.2.0",
      "_model_name": "LayoutModel",
      "_view_count": null,
      "_view_module": "@jupyter-widgets/base",
      "_view_module_version": "1.2.0",
      "_view_name": "LayoutView",
      "align_content": null,
      "align_items": null,
      "align_self": null,
      "border": null,
      "bottom": null,
      "display": null,
      "flex": null,
      "flex_flow": null,
      "grid_area": null,
      "grid_auto_columns": null,
      "grid_auto_flow": null,
      "grid_auto_rows": null,
      "grid_column": null,
      "grid_gap": null,
      "grid_row": null,
      "grid_template_areas": null,
      "grid_template_columns": null,
      "grid_template_rows": null,
      "height": null,
      "justify_content": null,
      "justify_items": null,
      "left": null,
      "margin": null,
      "max_height": null,
      "max_width": null,
      "min_height": null,
      "min_width": null,
      "object_fit": null,
      "object_position": null,
      "order": null,
      "overflow": null,
      "overflow_x": null,
      "overflow_y": null,
      "padding": null,
      "right": null,
      "top": null,
      "visibility": null,
      "width": null
     }
    },
    "8aea2c1d5db944779d2f24e775ea0e09": {
     "model_module": "@jupyter-widgets/base",
     "model_name": "LayoutModel",
     "state": {
      "_model_module": "@jupyter-widgets/base",
      "_model_module_version": "1.2.0",
      "_model_name": "LayoutModel",
      "_view_count": null,
      "_view_module": "@jupyter-widgets/base",
      "_view_module_version": "1.2.0",
      "_view_name": "LayoutView",
      "align_content": null,
      "align_items": null,
      "align_self": null,
      "border": null,
      "bottom": null,
      "display": null,
      "flex": null,
      "flex_flow": null,
      "grid_area": null,
      "grid_auto_columns": null,
      "grid_auto_flow": null,
      "grid_auto_rows": null,
      "grid_column": null,
      "grid_gap": null,
      "grid_row": null,
      "grid_template_areas": null,
      "grid_template_columns": null,
      "grid_template_rows": null,
      "height": null,
      "justify_content": null,
      "justify_items": null,
      "left": null,
      "margin": null,
      "max_height": null,
      "max_width": null,
      "min_height": null,
      "min_width": null,
      "object_fit": null,
      "object_position": null,
      "order": null,
      "overflow": null,
      "overflow_x": null,
      "overflow_y": null,
      "padding": null,
      "right": null,
      "top": null,
      "visibility": null,
      "width": null
     }
    },
    "8f35bcdabd624133851d6bf3b72c240c": {
     "model_module": "@jupyter-widgets/controls",
     "model_name": "HBoxModel",
     "state": {
      "_dom_classes": [],
      "_model_module": "@jupyter-widgets/controls",
      "_model_module_version": "1.5.0",
      "_model_name": "HBoxModel",
      "_view_count": null,
      "_view_module": "@jupyter-widgets/controls",
      "_view_module_version": "1.5.0",
      "_view_name": "HBoxView",
      "box_style": "",
      "children": [
       "IPY_MODEL_7a7937f21ceb49dfad9aaeb9a6f5dedf",
       "IPY_MODEL_2a7662eecf8e4a54a8ac2e12caf9c718"
      ],
      "layout": "IPY_MODEL_28c036de412e48b5b3080f50fe5e7742"
     }
    },
    "93560590bffb4644a51e5e83695c40db": {
     "model_module": "@jupyter-widgets/controls",
     "model_name": "HTMLModel",
     "state": {
      "_dom_classes": [],
      "_model_module": "@jupyter-widgets/controls",
      "_model_module_version": "1.5.0",
      "_model_name": "HTMLModel",
      "_view_count": null,
      "_view_module": "@jupyter-widgets/controls",
      "_view_module_version": "1.5.0",
      "_view_name": "HTMLView",
      "description": "",
      "description_tooltip": null,
      "layout": "IPY_MODEL_66a84da8155b4f95be231bae9b83c2c9",
      "placeholder": "​",
      "style": "IPY_MODEL_3e0bb351b546426fa510095338d86058",
      "value": " 1.36M/1.36M [00:00&lt;00:00, 2.99MB/s]"
     }
    },
    "9a2faca37c6a46498536b05dad8bba50": {
     "model_module": "@jupyter-widgets/controls",
     "model_name": "ProgressStyleModel",
     "state": {
      "_model_module": "@jupyter-widgets/controls",
      "_model_module_version": "1.5.0",
      "_model_name": "ProgressStyleModel",
      "_view_count": null,
      "_view_module": "@jupyter-widgets/base",
      "_view_module_version": "1.2.0",
      "_view_name": "StyleView",
      "bar_color": null,
      "description_width": "initial"
     }
    },
    "acd4c5deb96d4a10827c57cff66928a3": {
     "model_module": "@jupyter-widgets/controls",
     "model_name": "HBoxModel",
     "state": {
      "_dom_classes": [],
      "_model_module": "@jupyter-widgets/controls",
      "_model_module_version": "1.5.0",
      "_model_name": "HBoxModel",
      "_view_count": null,
      "_view_module": "@jupyter-widgets/controls",
      "_view_module_version": "1.5.0",
      "_view_name": "HBoxView",
      "box_style": "",
      "children": [
       "IPY_MODEL_bdde7abdb4f245dd8962b8701d72e573",
       "IPY_MODEL_93560590bffb4644a51e5e83695c40db"
      ],
      "layout": "IPY_MODEL_7b02b1707f054600b9d3ec54e9e27ce9"
     }
    },
    "b13fdb7a959f48059fa4b91fbf9a327c": {
     "model_module": "@jupyter-widgets/controls",
     "model_name": "ProgressStyleModel",
     "state": {
      "_model_module": "@jupyter-widgets/controls",
      "_model_module_version": "1.5.0",
      "_model_name": "ProgressStyleModel",
      "_view_count": null,
      "_view_module": "@jupyter-widgets/base",
      "_view_module_version": "1.2.0",
      "_view_name": "StyleView",
      "bar_color": null,
      "description_width": "initial"
     }
    },
    "b1f13cdc04804cac803c9366306dd366": {
     "model_module": "@jupyter-widgets/controls",
     "model_name": "ProgressStyleModel",
     "state": {
      "_model_module": "@jupyter-widgets/controls",
      "_model_module_version": "1.5.0",
      "_model_name": "ProgressStyleModel",
      "_view_count": null,
      "_view_module": "@jupyter-widgets/base",
      "_view_module_version": "1.2.0",
      "_view_name": "StyleView",
      "bar_color": null,
      "description_width": "initial"
     }
    },
    "b431601fd45444bc8f67a89914425470": {
     "model_module": "@jupyter-widgets/controls",
     "model_name": "ProgressStyleModel",
     "state": {
      "_model_module": "@jupyter-widgets/controls",
      "_model_module_version": "1.5.0",
      "_model_name": "ProgressStyleModel",
      "_view_count": null,
      "_view_module": "@jupyter-widgets/base",
      "_view_module_version": "1.2.0",
      "_view_name": "StyleView",
      "bar_color": null,
      "description_width": "initial"
     }
    },
    "b5133619ed5d47f3b9c1665313383d08": {
     "model_module": "@jupyter-widgets/base",
     "model_name": "LayoutModel",
     "state": {
      "_model_module": "@jupyter-widgets/base",
      "_model_module_version": "1.2.0",
      "_model_name": "LayoutModel",
      "_view_count": null,
      "_view_module": "@jupyter-widgets/base",
      "_view_module_version": "1.2.0",
      "_view_name": "LayoutView",
      "align_content": null,
      "align_items": null,
      "align_self": null,
      "border": null,
      "bottom": null,
      "display": null,
      "flex": null,
      "flex_flow": null,
      "grid_area": null,
      "grid_auto_columns": null,
      "grid_auto_flow": null,
      "grid_auto_rows": null,
      "grid_column": null,
      "grid_gap": null,
      "grid_row": null,
      "grid_template_areas": null,
      "grid_template_columns": null,
      "grid_template_rows": null,
      "height": null,
      "justify_content": null,
      "justify_items": null,
      "left": null,
      "margin": null,
      "max_height": null,
      "max_width": null,
      "min_height": null,
      "min_width": null,
      "object_fit": null,
      "object_position": null,
      "order": null,
      "overflow": null,
      "overflow_x": null,
      "overflow_y": null,
      "padding": null,
      "right": null,
      "top": null,
      "visibility": null,
      "width": null
     }
    },
    "b7d2d0fd6e93428dbb78146eaa05d3d0": {
     "model_module": "@jupyter-widgets/base",
     "model_name": "LayoutModel",
     "state": {
      "_model_module": "@jupyter-widgets/base",
      "_model_module_version": "1.2.0",
      "_model_name": "LayoutModel",
      "_view_count": null,
      "_view_module": "@jupyter-widgets/base",
      "_view_module_version": "1.2.0",
      "_view_name": "LayoutView",
      "align_content": null,
      "align_items": null,
      "align_self": null,
      "border": null,
      "bottom": null,
      "display": null,
      "flex": null,
      "flex_flow": null,
      "grid_area": null,
      "grid_auto_columns": null,
      "grid_auto_flow": null,
      "grid_auto_rows": null,
      "grid_column": null,
      "grid_gap": null,
      "grid_row": null,
      "grid_template_areas": null,
      "grid_template_columns": null,
      "grid_template_rows": null,
      "height": null,
      "justify_content": null,
      "justify_items": null,
      "left": null,
      "margin": null,
      "max_height": null,
      "max_width": null,
      "min_height": null,
      "min_width": null,
      "object_fit": null,
      "object_position": null,
      "order": null,
      "overflow": null,
      "overflow_x": null,
      "overflow_y": null,
      "padding": null,
      "right": null,
      "top": null,
      "visibility": null,
      "width": null
     }
    },
    "bdde7abdb4f245dd8962b8701d72e573": {
     "model_module": "@jupyter-widgets/controls",
     "model_name": "FloatProgressModel",
     "state": {
      "_dom_classes": [],
      "_model_module": "@jupyter-widgets/controls",
      "_model_module_version": "1.5.0",
      "_model_name": "FloatProgressModel",
      "_view_count": null,
      "_view_module": "@jupyter-widgets/controls",
      "_view_module_version": "1.5.0",
      "_view_name": "ProgressView",
      "bar_style": "success",
      "description": "Downloading: 100%",
      "description_tooltip": null,
      "layout": "IPY_MODEL_86e0c4ed74dd44c8a705ea79f598db57",
      "max": 1355256,
      "min": 0,
      "orientation": "horizontal",
      "style": "IPY_MODEL_b13fdb7a959f48059fa4b91fbf9a327c",
      "value": 1355256
     }
    },
    "d8148c33a6074af2a99ad49c4605e404": {
     "model_module": "@jupyter-widgets/controls",
     "model_name": "DescriptionStyleModel",
     "state": {
      "_model_module": "@jupyter-widgets/controls",
      "_model_module_version": "1.5.0",
      "_model_name": "DescriptionStyleModel",
      "_view_count": null,
      "_view_module": "@jupyter-widgets/base",
      "_view_module_version": "1.2.0",
      "_view_name": "StyleView",
      "description_width": ""
     }
    },
    "dd4a9bb0286941f188267ad2e1aaf655": {
     "model_module": "@jupyter-widgets/base",
     "model_name": "LayoutModel",
     "state": {
      "_model_module": "@jupyter-widgets/base",
      "_model_module_version": "1.2.0",
      "_model_name": "LayoutModel",
      "_view_count": null,
      "_view_module": "@jupyter-widgets/base",
      "_view_module_version": "1.2.0",
      "_view_name": "LayoutView",
      "align_content": null,
      "align_items": null,
      "align_self": null,
      "border": null,
      "bottom": null,
      "display": null,
      "flex": null,
      "flex_flow": null,
      "grid_area": null,
      "grid_auto_columns": null,
      "grid_auto_flow": null,
      "grid_auto_rows": null,
      "grid_column": null,
      "grid_gap": null,
      "grid_row": null,
      "grid_template_areas": null,
      "grid_template_columns": null,
      "grid_template_rows": null,
      "height": null,
      "justify_content": null,
      "justify_items": null,
      "left": null,
      "margin": null,
      "max_height": null,
      "max_width": null,
      "min_height": null,
      "min_width": null,
      "object_fit": null,
      "object_position": null,
      "order": null,
      "overflow": null,
      "overflow_x": null,
      "overflow_y": null,
      "padding": null,
      "right": null,
      "top": null,
      "visibility": null,
      "width": null
     }
    },
    "e2337659d60d4c0a9ee9f581e8262dd5": {
     "model_module": "@jupyter-widgets/base",
     "model_name": "LayoutModel",
     "state": {
      "_model_module": "@jupyter-widgets/base",
      "_model_module_version": "1.2.0",
      "_model_name": "LayoutModel",
      "_view_count": null,
      "_view_module": "@jupyter-widgets/base",
      "_view_module_version": "1.2.0",
      "_view_name": "LayoutView",
      "align_content": null,
      "align_items": null,
      "align_self": null,
      "border": null,
      "bottom": null,
      "display": null,
      "flex": null,
      "flex_flow": null,
      "grid_area": null,
      "grid_auto_columns": null,
      "grid_auto_flow": null,
      "grid_auto_rows": null,
      "grid_column": null,
      "grid_gap": null,
      "grid_row": null,
      "grid_template_areas": null,
      "grid_template_columns": null,
      "grid_template_rows": null,
      "height": null,
      "justify_content": null,
      "justify_items": null,
      "left": null,
      "margin": null,
      "max_height": null,
      "max_width": null,
      "min_height": null,
      "min_width": null,
      "object_fit": null,
      "object_position": null,
      "order": null,
      "overflow": null,
      "overflow_x": null,
      "overflow_y": null,
      "padding": null,
      "right": null,
      "top": null,
      "visibility": null,
      "width": null
     }
    },
    "e32a0046dead4ba181299bd74b635235": {
     "model_module": "@jupyter-widgets/base",
     "model_name": "LayoutModel",
     "state": {
      "_model_module": "@jupyter-widgets/base",
      "_model_module_version": "1.2.0",
      "_model_name": "LayoutModel",
      "_view_count": null,
      "_view_module": "@jupyter-widgets/base",
      "_view_module_version": "1.2.0",
      "_view_name": "LayoutView",
      "align_content": null,
      "align_items": null,
      "align_self": null,
      "border": null,
      "bottom": null,
      "display": null,
      "flex": null,
      "flex_flow": null,
      "grid_area": null,
      "grid_auto_columns": null,
      "grid_auto_flow": null,
      "grid_auto_rows": null,
      "grid_column": null,
      "grid_gap": null,
      "grid_row": null,
      "grid_template_areas": null,
      "grid_template_columns": null,
      "grid_template_rows": null,
      "height": null,
      "justify_content": null,
      "justify_items": null,
      "left": null,
      "margin": null,
      "max_height": null,
      "max_width": null,
      "min_height": null,
      "min_width": null,
      "object_fit": null,
      "object_position": null,
      "order": null,
      "overflow": null,
      "overflow_x": null,
      "overflow_y": null,
      "padding": null,
      "right": null,
      "top": null,
      "visibility": null,
      "width": null
     }
    },
    "e4ee6805e9a4445ba6d088bd88e1185b": {
     "model_module": "@jupyter-widgets/controls",
     "model_name": "HTMLModel",
     "state": {
      "_dom_classes": [],
      "_model_module": "@jupyter-widgets/controls",
      "_model_module_version": "1.5.0",
      "_model_name": "HTMLModel",
      "_view_count": null,
      "_view_module": "@jupyter-widgets/controls",
      "_view_module_version": "1.5.0",
      "_view_name": "HTMLView",
      "description": "",
      "description_tooltip": null,
      "layout": "IPY_MODEL_4788084e0b6e44bb84acbe7da93aebfc",
      "placeholder": "​",
      "style": "IPY_MODEL_31d85e82599f48ea943b503b810444e1",
      "value": " 548M/548M [00:14&lt;00:00, 36.9MB/s]"
     }
    },
    "f4682539b7024e5292d494295fc27f6a": {
     "model_module": "@jupyter-widgets/controls",
     "model_name": "HTMLModel",
     "state": {
      "_dom_classes": [],
      "_model_module": "@jupyter-widgets/controls",
      "_model_module_version": "1.5.0",
      "_model_name": "HTMLModel",
      "_view_count": null,
      "_view_module": "@jupyter-widgets/controls",
      "_view_module_version": "1.5.0",
      "_view_name": "HTMLView",
      "description": "",
      "description_tooltip": null,
      "layout": "IPY_MODEL_e2337659d60d4c0a9ee9f581e8262dd5",
      "placeholder": "​",
      "style": "IPY_MODEL_d8148c33a6074af2a99ad49c4605e404",
      "value": " 1.04M/1.04M [00:00&lt;00:00, 1.26MB/s]"
     }
    },
    "fb72a98e26ce4a97aba25c559ca5b6bf": {
     "model_module": "@jupyter-widgets/controls",
     "model_name": "HBoxModel",
     "state": {
      "_dom_classes": [],
      "_model_module": "@jupyter-widgets/controls",
      "_model_module_version": "1.5.0",
      "_model_name": "HBoxModel",
      "_view_count": null,
      "_view_module": "@jupyter-widgets/controls",
      "_view_module_version": "1.5.0",
      "_view_name": "HBoxView",
      "box_style": "",
      "children": [
       "IPY_MODEL_0f4b17b737b141ba8890b63de537f8d7",
       "IPY_MODEL_e4ee6805e9a4445ba6d088bd88e1185b"
      ],
      "layout": "IPY_MODEL_dd4a9bb0286941f188267ad2e1aaf655"
     }
    }
   }
  }
 },
 "nbformat": 4,
 "nbformat_minor": 4
}
